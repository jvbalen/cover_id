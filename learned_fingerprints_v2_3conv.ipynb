{
 "cells": [
  {
   "cell_type": "code",
   "execution_count": 1,
   "metadata": {
    "collapsed": true
   },
   "outputs": [],
   "source": [
    "%matplotlib inline\n",
    "\n",
    "from __future__ import division, print_function\n",
    "\n",
    "import numpy as np\n",
    "import matplotlib.pyplot as plt\n",
    "import tensorflow as tf\n",
    "\n",
    "import SHS_data\n",
    "import util\n",
    "import paired_data\n",
    "\n",
    "reload(paired_data);"
   ]
  },
  {
   "cell_type": "markdown",
   "metadata": {},
   "source": [
    "## Learning cover song fingerprints\n",
    "\n",
    "### Data\n",
    "\n",
    "#### load train and test data"
   ]
  },
  {
   "cell_type": "code",
   "execution_count": 2,
   "metadata": {
    "collapsed": false
   },
   "outputs": [
    {
     "name": "stdout",
     "output_type": "stream",
     "text": [
      "Preloading training data...\n",
      "Preparing training dataset...\n",
      "    Training set: (17630, 512, 12) (17630, 512, 12) (17630,)\n",
      "Preloading test data...\n",
      "Preparing test dataset...\n",
      "    Test set: (664, 512, 12) (664, 512, 12) (664,)\n"
     ]
    }
   ],
   "source": [
    "ratio = (24,1,75)\n",
    "clique_dict, _ = SHS_data.read_cliques()\n",
    "train_cliques, test_cliques, _ = util.split_train_test_validation(clique_dict, ratio=ratio)\n",
    "\n",
    "print('Preloading training data...')\n",
    "train_uris = util.uris_from_clique_dict(train_cliques)\n",
    "chroma_dict = SHS_data.preload_chroma(train_uris)\n",
    "\n",
    "print('Preparing training dataset...')\n",
    "n_patches, patch_len = 8, 64\n",
    "X_A, X_B, Y, pair_uris = paired_data.dataset_of_pairs(train_cliques, chroma_dict,\n",
    "                                                             n_patches=n_patches, patch_len=patch_len)\n",
    "print('    Training set:', X_A.shape, X_B.shape, Y.shape)\n",
    "\n",
    "print('Preloading test data...')\n",
    "test_uris = util.uris_from_clique_dict(test_cliques)\n",
    "chroma_dict_T = SHS_data.preload_chroma(test_uris)\n",
    "\n",
    "print('Preparing test dataset...')\n",
    "X_A_T, X_B_T, Y_T, test_pair_uris_T = paired_data.dataset_of_pairs(test_cliques, chroma_dict_T,\n",
    "                                                             n_patches=n_patches, patch_len=patch_len)\n",
    "print('    Test set:', X_A_T.shape, X_B_T.shape, Y_T.shape)"
   ]
  },
  {
   "cell_type": "markdown",
   "metadata": {},
   "source": [
    "#### batch generator"
   ]
  },
  {
   "cell_type": "code",
   "execution_count": 3,
   "metadata": {
    "collapsed": false
   },
   "outputs": [],
   "source": [
    "def get_batches(arrays, batch_size=50):\n",
    "    \"\"\"Batch generator, no shuffling.\n",
    "    \n",
    "    Args:\n",
    "        arrays (list): list of arrays. Arrays should have equal length\n",
    "        batch_size (int): number of examples per batch\n",
    "        \n",
    "    Yields:\n",
    "        list: list of batches of length batch_size\n",
    "        \n",
    "    Usage:\n",
    "    >>> batches = get_batches([X, Y], batch_size=50)\n",
    "    >>> x, y = batches.next()\n",
    "    \"\"\"\n",
    "    array_lengths = [len(array) for array in arrays]\n",
    "    n_examples = array_lengths[0]\n",
    "    if not np.all(np.array(array_lengths) == n_examples):\n",
    "        raise ValueError('Arrays must have the same length.')\n",
    "    start = 0\n",
    "    while True:\n",
    "        start = np.mod(start, n_examples)\n",
    "        stop = start + batch_size\n",
    "        batch = [np.take(array, range(start, stop), axis=0, mode='wrap') for array in arrays]\n",
    "        start = stop\n",
    "        yield batch\n",
    "        \n",
    "# # test\n",
    "# x = np.arange(100)\n",
    "# y = x + 1988\n",
    "# batches = get_batches([x, y], batch_size=7)\n",
    "# for i in range(20):\n",
    "#     print(next(batches))"
   ]
  },
  {
   "cell_type": "markdown",
   "metadata": {},
   "source": [
    "### Tensorflow shorthands\n",
    "\n",
    "#### variables"
   ]
  },
  {
   "cell_type": "code",
   "execution_count": 4,
   "metadata": {
    "collapsed": true
   },
   "outputs": [],
   "source": [
    "weight_scale = 0.1 # 0.1\n",
    "\n",
    "def weight_variable(shape):\n",
    "    initial = tf.truncated_normal(shape, stddev=weight_scale)\n",
    "    return tf.Variable(initial)\n",
    "\n",
    "def bias_variable(shape):\n",
    "    initial = tf.constant(weight_scale, shape=shape)\n",
    "    return tf.Variable(initial)"
   ]
  },
  {
   "cell_type": "markdown",
   "metadata": {},
   "source": [
    "#### layers"
   ]
  },
  {
   "cell_type": "code",
   "execution_count": 5,
   "metadata": {
    "collapsed": true
   },
   "outputs": [],
   "source": [
    "def conv_bins(x, W):\n",
    "    return tf.nn.conv2d(x, W, strides=[1, 1, 1, 1], padding='VALID')\n",
    "\n",
    "def conv_frames(x, W):\n",
    "    return tf.nn.conv2d(x, W, strides=[1, 1, 1, 1], padding='SAME')\n",
    "\n",
    "def max_pool_4x1(x):\n",
    "    return tf.nn.max_pool(x, ksize=[1, 4, 1, 1],\n",
    "                          strides=[1, 4, 1, 1], padding='SAME')\n",
    "\n",
    "def max_pool_8x1(x):\n",
    "    return tf.nn.max_pool(x, ksize=[1, 8, 1, 1],\n",
    "                          strides=[1, 8, 1, 1], padding='SAME')\n",
    "\n",
    "def max_pool_64x1(x):\n",
    "    return tf.nn.max_pool(x, ksize=[1, 64, 1, 1],\n",
    "                          strides=[1, 64, 1, 1], padding='SAME')"
   ]
  },
  {
   "cell_type": "markdown",
   "metadata": {},
   "source": [
    "### Network\n",
    "\n",
    "#### input"
   ]
  },
  {
   "cell_type": "code",
   "execution_count": 6,
   "metadata": {
    "collapsed": false
   },
   "outputs": [],
   "source": [
    "input_len = n_patches * patch_len\n",
    "\n",
    "x_A = tf.placeholder(\"float\", shape=[None, input_len, 12])\n",
    "x_B = tf.placeholder(\"float\", shape=[None, input_len, 12])\n",
    "y_ = tf.placeholder(\"float\", shape=[None,])\n",
    "\n",
    "x_image_A = tf.reshape(x_A, [-1, input_len, 12, 1])\n",
    "x_image_B = tf.reshape(x_B, [-1, input_len, 12, 1])\n",
    "y_ = tf.reshape(y_, [-1, 1])"
   ]
  },
  {
   "cell_type": "markdown",
   "metadata": {},
   "source": [
    "#### conv layer 1\n",
    "\n",
    "`(512, 12, 1) > (512, 1, 32)`"
   ]
  },
  {
   "cell_type": "code",
   "execution_count": 7,
   "metadata": {
    "collapsed": false
   },
   "outputs": [],
   "source": [
    "W_conv1 = weight_variable([1, 12, 1, 64])\n",
    "b_conv1 = bias_variable([64])\n",
    "\n",
    "h_conv1_A = tf.nn.relu(conv_bins(x_image_A, W_conv1) + b_conv1)\n",
    "h_conv1_B = tf.nn.relu(conv_bins(x_image_B, W_conv1) + b_conv1)"
   ]
  },
  {
   "cell_type": "markdown",
   "metadata": {},
   "source": [
    "#### conv layer 2\n",
    "\n",
    "`(512, 1, 32) > (64, 1, 64)`\n",
    "\n",
    "`64x1` max-pooling is used to pool at once across the last convolution (`8x1`) and the `8` patches of chroma of which the input features is made."
   ]
  },
  {
   "cell_type": "code",
   "execution_count": 9,
   "metadata": {
    "collapsed": false
   },
   "outputs": [],
   "source": [
    "W_conv2 = weight_variable([8, 1, 64, 128])\n",
    "b_conv2 = bias_variable([128])\n",
    "\n",
    "h_conv2_A = tf.nn.relu(conv_frames(h_conv1_A, W_conv2) + b_conv2)\n",
    "h_conv2_B = tf.nn.relu(conv_frames(h_conv1_B, W_conv2) + b_conv2)\n",
    "\n",
    "h_pool1_A = max_pool_8x1(h_conv2_A)\n",
    "h_pool1_B = max_pool_8x1(h_conv2_B)"
   ]
  },
  {
   "cell_type": "markdown",
   "metadata": {},
   "source": [
    "#### conv layer 3\n",
    "\n",
    "`(64, 1, 64) > (8, 1, 128)`\n",
    "\n",
    "`8x1` pooling, leaving \n",
    "\n",
    "8 patches, 128 filter activations per patch"
   ]
  },
  {
   "cell_type": "code",
   "execution_count": 13,
   "metadata": {
    "collapsed": false
   },
   "outputs": [],
   "source": [
    "W_conv3 = weight_variable([8, 1, 128, 256])\n",
    "b_conv3 = bias_variable([256])\n",
    "\n",
    "# applied in next cell as activation function differs"
   ]
  },
  {
   "cell_type": "markdown",
   "metadata": {},
   "source": [
    "#### architecture I: only convolutional layers\n",
    "\n",
    "`(8, 1, 128) > (128)`\n",
    "\n",
    "max-pool over patches and flatten"
   ]
  },
  {
   "cell_type": "code",
   "execution_count": 14,
   "metadata": {
    "collapsed": false
   },
   "outputs": [],
   "source": [
    "# h_conv3_A = tf.tanh(conv_frames(h_pool1_A, W_conv3) + b_conv3)\n",
    "# h_conv3_B = tf.tanh(conv_frames(h_pool1_B, W_conv3) + b_conv3)\n",
    "\n",
    "# h_pool2_A = max_pool_64x1(h_conv3_A)\n",
    "# h_pool2_B = max_pool_64x1(h_conv3_B)\n",
    "\n",
    "# h_pool2_A_flat = tf.reshape(h_pool2_A, [-1, 128])  # flatten images first\n",
    "# h_pool2_B_flat = tf.reshape(h_pool2_B, [-1, 128])\n",
    "\n",
    "# out_I_A = tf.tanh(h_pool2_A_flat)\n",
    "# out_I_B = tf.tanh(h_pool2_B_flat)"
   ]
  },
  {
   "cell_type": "markdown",
   "metadata": {},
   "source": [
    "#### archictecture II: 256 unit fully connected layer"
   ]
  },
  {
   "cell_type": "code",
   "execution_count": 16,
   "metadata": {
    "collapsed": false
   },
   "outputs": [],
   "source": [
    "h_conv3_A = tf.nn.relu(conv_frames(h_pool1_A, W_conv3) + b_conv3)\n",
    "h_conv3_B = tf.nn.relu(conv_frames(h_pool1_B, W_conv3) + b_conv3)\n",
    "\n",
    "h_pool3_A = max_pool_8x1(h_conv3_A)\n",
    "h_pool3_B = max_pool_8x1(h_conv3_B)\n",
    "\n",
    "h_pool3_A_flat = tf.reshape(h_pool3_A, [-1, 8*256])  # flatten images first\n",
    "h_pool3_B_flat = tf.reshape(h_pool3_B, [-1, 8*256])\n",
    "\n",
    "W_fc1 = weight_variable([8*256, 512])\n",
    "b_fc1 = bias_variable([512])\n",
    "\n",
    "out_II_A = tf.nn.relu(tf.matmul(h_pool3_A_flat, W_fc1) + b_fc1)\n",
    "out_II_B = tf.nn.relu(tf.matmul(h_pool3_B_flat, W_fc1) + b_fc1)"
   ]
  },
  {
   "cell_type": "markdown",
   "metadata": {},
   "source": [
    "#### architecture III: extra fully connected hashing layer\n",
    "\n",
    "apply drop-out to previous layer first"
   ]
  },
  {
   "cell_type": "code",
   "execution_count": 17,
   "metadata": {
    "collapsed": false
   },
   "outputs": [],
   "source": [
    "keep_prob = tf.placeholder(\"float\")\n",
    "\n",
    "# h_fc1_A_drop = tf.nn.dropout(h_fc1_A, keep_prob)\n",
    "# h_fc1_B_drop = tf.nn.dropout(h_fc1_B, keep_prob)\n",
    "\n",
    "# W_fc2 = weight_variable([256, 16])\n",
    "# b_fc2 = bias_variable([16])\n",
    "\n",
    "# out_III_A = tf.nn.tanh(tf.matmul(h_fc1_A_drop, W_fc2) + b_fc2)\n",
    "# out_III_B = tf.nn.tanh(tf.matmul(h_fc1_B_drop, W_fc2) + b_fc2)"
   ]
  },
  {
   "cell_type": "markdown",
   "metadata": {},
   "source": [
    "#### Bhattacharyya distance"
   ]
  },
  {
   "cell_type": "code",
   "execution_count": 18,
   "metadata": {
    "collapsed": false
   },
   "outputs": [],
   "source": [
    "def approx_bhattacharyya(squared_dists, is_cover):\n",
    "    \"\"\"Approximate bhattacharyya distance between cover and non-cover distances.\n",
    "    \n",
    "    Similar to Mahalanobis distance, but for distributions with different variances.\n",
    "    Assumes normality, hence approximate (distances are bound by 0).\n",
    "    \"\"\"\n",
    "    pair_dists = np.sqrt(squared_dists[np.where(is_cover==1)])\n",
    "    non_pair_dists = np.sqrt(squared_dists[np.where(is_cover==0)])\n",
    "    \n",
    "    mu_pairs, sigma2_pairs = np.mean(pair_dists), np.var(pair_dists)\n",
    "    mu_non_pairs, sigma2_non_pairs = np.mean(non_pair_dists), np.var(non_pair_dists)\n",
    "\n",
    "    bhatt = (0.25 * np.log(0.25 * (sigma2_pairs/sigma2_non_pairs + sigma2_non_pairs/sigma2_pairs + 2)) +\n",
    "             0.25 * (mu_pairs - mu_non_pairs)**2 / (sigma2_pairs + sigma2_non_pairs))\n",
    "    return bhatt, mu_pairs, mu_non_pairs"
   ]
  },
  {
   "cell_type": "markdown",
   "metadata": {},
   "source": [
    "### Training\n",
    "\n",
    "#### objective function\n",
    "\n",
    "Minize pair distances while maximizing non-pair distances smaller than `m`\n",
    "\n",
    "Following [1].\n",
    "\n",
    "1. Raffel, C., & Ellis, D. P. W. (2015). Large-Scale Content-Based Matching of Midi and Audio Files. Proceedings of the 16th International Society for Music Information Retrieval Conference (ISMIR), 234–240."
   ]
  },
  {
   "cell_type": "code",
   "execution_count": 19,
   "metadata": {
    "collapsed": false
   },
   "outputs": [],
   "source": [
    "alpha = 1\n",
    "m = 10 # e.g., sqrt(256)\n",
    "\n",
    "squared_errors = tf.reduce_sum(tf.square(out_II_A - out_II_B), reduction_indices=1, keep_dims=True)\n",
    "pair_loss = tf.reduce_mean(y_ * squared_errors)\n",
    "non_pair_loss = tf.reduce_mean((1 - y_) * tf.square(tf.maximum(0.0, m - tf.sqrt(squared_errors))))\n",
    "\n",
    "loss_function = pair_loss + alpha * non_pair_loss\n",
    "loss_float = tf.cast(loss_function, \"float\")\n",
    "\n",
    "# optimizer\n",
    "learning_rate = tf.placeholder(tf.float32, shape=[])\n",
    "train_step = tf.train.AdamOptimizer(learning_rate).minimize(loss_function)\n",
    "# train_step = tf.train.RMSPropOptimizer(learning_rate, decay=0.9).minimize(loss_function)"
   ]
  },
  {
   "cell_type": "markdown",
   "metadata": {},
   "source": [
    "#### init basic logging"
   ]
  },
  {
   "cell_type": "code",
   "execution_count": 20,
   "metadata": {
    "collapsed": true
   },
   "outputs": [],
   "source": [
    "error_pairs_log = []\n",
    "error_non_pairs_log = []\n",
    "\n",
    "squared_dists_log = []\n",
    "labels_log = []\n",
    "d_pairs_log = []\n",
    "d_non_pairs_log = []\n",
    "\n",
    "train_error_log = []\n",
    "train_bhatt_log = []\n",
    "\n",
    "test_error_log = []\n",
    "test_bhatt_log = []"
   ]
  },
  {
   "cell_type": "markdown",
   "metadata": {},
   "source": [
    "#### reporting\n",
    "\n",
    "bundle all logging and printing into a function"
   ]
  },
  {
   "cell_type": "code",
   "execution_count": 21,
   "metadata": {
    "collapsed": false
   },
   "outputs": [],
   "source": [
    "def report(step, batch):\n",
    "    print('step {}'.format(step))\n",
    "\n",
    "    # train and test feeds\n",
    "    train_feed = {x_A:batch[0], x_B:batch[1], y_: batch[2], keep_prob: 1.0}\n",
    "    test_feed = {x_A:X_A_T, x_B:X_B_T, y_: Y_T, keep_prob: 1.0}\n",
    "    \n",
    "    # train metrics\n",
    "    error_pairs, error_non_pairs, squared_dists, train_error = sess.run([pair_loss, non_pair_loss,\n",
    "                                                                        squared_errors, loss_float],\n",
    "                                                                        feed_dict=train_feed)\n",
    "    train_bhatt, d_pairs, d_non_pairs = approx_bhattacharyya(squared_dists, train_feed[y_])\n",
    "    \n",
    "    # test metrics\n",
    "    test_squared_dists, test_error = sess.run([squared_errors, loss_float],\n",
    "                                              feed_dict=test_feed)\n",
    "    test_bhatt, _, _ = approx_bhattacharyya(test_squared_dists, test_feed[y_])\n",
    "\n",
    "    # log all metrics\n",
    "    error_pairs_log.append(error_pairs)\n",
    "    error_non_pairs_log.append(error_non_pairs)\n",
    "    squared_dists_log.append(squared_dists)\n",
    "    labels_log.append(batch[2])\n",
    "    d_non_pairs_log.append(d_non_pairs)\n",
    "    d_pairs_log.append(d_pairs)\n",
    "    train_bhatt_log.append(train_bhatt)\n",
    "    train_error_log.append(train_error)\n",
    "    test_bhatt_log.append(test_bhatt)    \n",
    "    test_error_log.append(test_error)\n",
    "    \n",
    "    # print some metrics\n",
    "    print('  d_pairs, d_non_pairs = %.3g, %.3g' % (d_pairs, d_non_pairs))\n",
    "    print('  train error %.3g, train bhatt %.3g' % (train_error, train_bhatt))\n",
    "    print('  test error %.3g, test bhatt %.3g' % (test_error, test_bhatt))"
   ]
  },
  {
   "cell_type": "markdown",
   "metadata": {},
   "source": [
    "#### init session"
   ]
  },
  {
   "cell_type": "code",
   "execution_count": 22,
   "metadata": {
    "collapsed": false
   },
   "outputs": [],
   "source": [
    "sess = tf.InteractiveSession()\n",
    "sess.run(tf.initialize_all_variables())"
   ]
  },
  {
   "cell_type": "markdown",
   "metadata": {},
   "source": [
    "#### train"
   ]
  },
  {
   "cell_type": "code",
   "execution_count": 23,
   "metadata": {
    "collapsed": false
   },
   "outputs": [
    {
     "name": "stdout",
     "output_type": "stream",
     "text": [
      "step 0\n",
      "  d_pairs, d_non_pairs = 11.5, 13.1\n",
      "  train error 77.5, train bhatt 0.137\n",
      "  test error 84.7, test bhatt 0.0428\n",
      "step 10\n",
      "  d_pairs, d_non_pairs = 9.02, 9.7\n",
      "  train error 45, train bhatt 0.0734\n",
      "  test error 45.7, test bhatt 0.041\n",
      "step 20\n",
      "  d_pairs, d_non_pairs = 7.9, 8.03\n",
      "  train error 34.3, train bhatt 0.0294\n",
      "  test error 35, test bhatt 0.0337\n",
      "step 30\n",
      "  d_pairs, d_non_pairs = 6.72, 7.17\n",
      "  train error 29.5, train bhatt 0.0418\n",
      "  test error 30.4, test bhatt 0.031\n",
      "step 40\n",
      "  d_pairs, d_non_pairs = 6.36, 6.83\n",
      "  train error 28.4, train bhatt 0.0339\n",
      "  test error 27.9, test bhatt 0.0315\n",
      "step 50\n",
      "  d_pairs, d_non_pairs = 5.93, 6.16\n",
      "  train error 26.4, train bhatt 0.0345\n",
      "  test error 26.8, test bhatt 0.0293\n",
      "step 60\n",
      "  d_pairs, d_non_pairs = 5.93, 6.15\n",
      "  train error 26.4, train bhatt 0.0184\n",
      "  test error 26.1, test bhatt 0.0267\n",
      "step 70\n",
      "  d_pairs, d_non_pairs = 5.56, 5.8\n",
      "  train error 25.8, train bhatt 0.032\n",
      "  test error 25.7, test bhatt 0.0265\n",
      "step 80\n",
      "  d_pairs, d_non_pairs = 4.88, 5.28\n",
      "  train error 25.4, train bhatt 0.056\n",
      "  test error 25.4, test bhatt 0.0254\n",
      "step 90\n",
      "  d_pairs, d_non_pairs = 4.86, 5.22\n",
      "  train error 25.3, train bhatt 0.0603\n",
      "  test error 25.3, test bhatt 0.0248\n",
      "step 100\n",
      "  d_pairs, d_non_pairs = 5.02, 5.15\n",
      "  train error 25.3, train bhatt 0.0152\n",
      "  test error 25.3, test bhatt 0.0246\n",
      "step 110\n",
      "  d_pairs, d_non_pairs = 4.55, 4.93\n",
      "  train error 25.4, train bhatt 0.0665\n",
      "  test error 25.3, test bhatt 0.0244\n",
      "step 120\n",
      "  d_pairs, d_non_pairs = 5.18, 5.31\n",
      "  train error 25.2, train bhatt 0.0124\n",
      "  test error 25.3, test bhatt 0.0242\n",
      "step 130\n",
      "  d_pairs, d_non_pairs = 4.68, 4.93\n",
      "  train error 25.3, train bhatt 0.0358\n",
      "  test error 25.3, test bhatt 0.0242\n",
      "step 140\n",
      "  d_pairs, d_non_pairs = 4.65, 4.99\n",
      "  train error 25.3, train bhatt 0.0613\n",
      "  test error 25.3, test bhatt 0.0244\n",
      "step 150\n",
      "  d_pairs, d_non_pairs = 5.16, 5.11\n",
      "  train error 25.3, train bhatt 0.00595\n",
      "  test error 25.3, test bhatt 0.0249\n",
      "step 160\n",
      "  d_pairs, d_non_pairs = 5.07, 5.11\n",
      "  train error 25.3, train bhatt 0.00289\n",
      "  test error 25.3, test bhatt 0.0245\n",
      "step 170\n",
      "  d_pairs, d_non_pairs = 4.7, 5.01\n",
      "  train error 25.4, train bhatt 0.039\n",
      "  test error 25.3, test bhatt 0.0239\n",
      "step 180\n",
      "  d_pairs, d_non_pairs = 4.83, 4.96\n",
      "  train error 25.2, train bhatt 0.0131\n",
      "  test error 25.3, test bhatt 0.0242\n",
      "step 190\n",
      "  d_pairs, d_non_pairs = 4.92, 5.07\n",
      "  train error 25.2, train bhatt 0.0425\n",
      "  test error 25.3, test bhatt 0.0243\n",
      "step 200\n",
      "  d_pairs, d_non_pairs = 4.9, 4.98\n",
      "  train error 25.2, train bhatt 0.00653\n",
      "  test error 25.3, test bhatt 0.0239\n",
      "step 210\n",
      "  d_pairs, d_non_pairs = 5.24, 5.05\n",
      "  train error 25.2, train bhatt 0.0249\n",
      "  test error 25.3, test bhatt 0.0239\n",
      "step 220\n",
      "  d_pairs, d_non_pairs = 5.04, 5.1\n",
      "  train error 25.3, train bhatt 0.0172\n",
      "  test error 25.3, test bhatt 0.0232\n",
      "step 230\n",
      "  d_pairs, d_non_pairs = 4.64, 4.95\n",
      "  train error 25.4, train bhatt 0.0418\n",
      "  test error 25.3, test bhatt 0.0239\n",
      "step 240\n",
      "  d_pairs, d_non_pairs = 5.49, 5.46\n",
      "  train error 25.7, train bhatt 0.0189\n",
      "  test error 25.3, test bhatt 0.0244\n",
      "step 250\n",
      "  d_pairs, d_non_pairs = 4.66, 4.93\n",
      "  train error 25.4, train bhatt 0.0708\n",
      "  test error 25.3, test bhatt 0.0234\n",
      "step 260\n",
      "  d_pairs, d_non_pairs = 4.85, 5.14\n",
      "  train error 25.2, train bhatt 0.0602\n",
      "  test error 25.3, test bhatt 0.0238\n",
      "step 270\n",
      "  d_pairs, d_non_pairs = 4.54, 4.76\n",
      "  train error 25.4, train bhatt 0.0258\n",
      "  test error 25.3, test bhatt 0.0242\n",
      "step 280\n",
      "  d_pairs, d_non_pairs = 4.83, 4.96\n",
      "  train error 25.2, train bhatt 0.0115\n",
      "  test error 25.3, test bhatt 0.0233\n",
      "step 290\n",
      "  d_pairs, d_non_pairs = 4.98, 5.09\n",
      "  train error 25.3, train bhatt 0.00548\n",
      "  test error 25.3, test bhatt 0.0225\n",
      "step 300\n",
      "  d_pairs, d_non_pairs = 4.6, 4.95\n",
      "  train error 25.3, train bhatt 0.0683\n",
      "  test error 25.3, test bhatt 0.0223\n",
      "step 310\n",
      "  d_pairs, d_non_pairs = 4.67, 4.77\n",
      "  train error 25.4, train bhatt 0.0147\n",
      "  test error 25.3, test bhatt 0.0221\n",
      "step 320\n",
      "  d_pairs, d_non_pairs = 4.7, 5.02\n",
      "  train error 25.3, train bhatt 0.0666\n",
      "  test error 25.3, test bhatt 0.0215\n",
      "step 330\n",
      "  d_pairs, d_non_pairs = 4.62, 4.74\n",
      "  train error 25.3, train bhatt 0.0186\n",
      "  test error 25.3, test bhatt 0.0205\n",
      "step 340\n",
      "  d_pairs, d_non_pairs = 4.76, 4.92\n",
      "  train error 25.3, train bhatt 0.0254\n",
      "  test error 25.3, test bhatt 0.0202\n",
      "step 350\n",
      "  d_pairs, d_non_pairs = 4.29, 4.86\n",
      "  train error 25.4, train bhatt 0.266\n",
      "  test error 25.3, test bhatt 0.0216\n",
      "step 360\n",
      "  d_pairs, d_non_pairs = 5.24, 5.12\n",
      "  train error 25.2, train bhatt 0.0294\n",
      "  test error 25.3, test bhatt 0.0207\n",
      "step 370\n",
      "  d_pairs, d_non_pairs = 4.77, 5.08\n",
      "  train error 25.2, train bhatt 0.0691\n",
      "  test error 25.2, test bhatt 0.0195\n",
      "step 380\n",
      "  d_pairs, d_non_pairs = 4.78, 5.05\n",
      "  train error 25.3, train bhatt 0.0427\n",
      "  test error 25.2, test bhatt 0.0189\n",
      "step 390\n",
      "  d_pairs, d_non_pairs = 4.5, 4.9\n",
      "  train error 25.3, train bhatt 0.182\n",
      "  test error 25.2, test bhatt 0.0184\n",
      "step 400\n",
      "  d_pairs, d_non_pairs = 4.93, 5\n",
      "  train error 25.3, train bhatt 0.021\n",
      "  test error 25.2, test bhatt 0.019\n",
      "step 410\n",
      "  d_pairs, d_non_pairs = 4.84, 4.99\n",
      "  train error 25.2, train bhatt 0.0419\n",
      "  test error 25.2, test bhatt 0.0202\n",
      "step 420\n",
      "  d_pairs, d_non_pairs = 4.74, 4.9\n",
      "  train error 25.2, train bhatt 0.0293\n",
      "  test error 25.2, test bhatt 0.0206\n",
      "step 430\n",
      "  d_pairs, d_non_pairs = 4.95, 4.93\n",
      "  train error 25.2, train bhatt 0.00945\n",
      "  test error 25.2, test bhatt 0.0205\n",
      "step 440\n",
      "  d_pairs, d_non_pairs = 4.87, 4.98\n",
      "  train error 25.2, train bhatt 0.00919\n",
      "  test error 25.2, test bhatt 0.0205\n",
      "step 450\n",
      "  d_pairs, d_non_pairs = 4.77, 5.04\n",
      "  train error 25.2, train bhatt 0.0634\n",
      "  test error 25.2, test bhatt 0.0202\n",
      "step 460\n",
      "  d_pairs, d_non_pairs = 4.55, 4.93\n",
      "  train error 25.2, train bhatt 0.129\n",
      "  test error 25.2, test bhatt 0.02\n",
      "step 470\n",
      "  d_pairs, d_non_pairs = 5.03, 5.09\n",
      "  train error 25.1, train bhatt 0.018\n",
      "  test error 25.2, test bhatt 0.0196\n",
      "step 480\n",
      "  d_pairs, d_non_pairs = 4.88, 4.93\n",
      "  train error 25.2, train bhatt 0.00834\n",
      "  test error 25.2, test bhatt 0.0192\n",
      "step 490\n",
      "  d_pairs, d_non_pairs = 4.7, 5.06\n",
      "  train error 25.3, train bhatt 0.0782\n",
      "  test error 25.2, test bhatt 0.0187\n",
      "step 500\n",
      "  d_pairs, d_non_pairs = 5.3, 5.27\n",
      "  train error 25.3, train bhatt 0.0147\n",
      "  test error 25.2, test bhatt 0.018\n",
      "step 510\n",
      "  d_pairs, d_non_pairs = 4.89, 5.06\n",
      "  train error 25.1, train bhatt 0.0298\n",
      "  test error 25.2, test bhatt 0.0169\n",
      "step 520\n",
      "  d_pairs, d_non_pairs = 4.77, 4.86\n",
      "  train error 25.3, train bhatt 0.0372\n",
      "  test error 25.2, test bhatt 0.0164\n",
      "step 530\n",
      "  d_pairs, d_non_pairs = 4.98, 5.14\n",
      "  train error 25.1, train bhatt 0.0295\n",
      "  test error 25.2, test bhatt 0.0182\n",
      "step 540\n",
      "  d_pairs, d_non_pairs = 5.14, 5.08\n",
      "  train error 25.2, train bhatt 0.00436\n",
      "  test error 25.2, test bhatt 0.0183\n",
      "step 550\n",
      "  d_pairs, d_non_pairs = 4.89, 4.92\n",
      "  train error 25.1, train bhatt 0.0145\n",
      "  test error 25.2, test bhatt 0.0176\n",
      "step 560\n",
      "  d_pairs, d_non_pairs = 4.93, 5.22\n",
      "  train error 25.2, train bhatt 0.0903\n",
      "  test error 25.2, test bhatt 0.017\n",
      "step 570\n",
      "  d_pairs, d_non_pairs = 4.54, 4.88\n",
      "  train error 25.3, train bhatt 0.0785\n",
      "  test error 25.2, test bhatt 0.0161\n",
      "step 580\n",
      "  d_pairs, d_non_pairs = 4.77, 4.97\n",
      "  train error 25.2, train bhatt 0.0273\n",
      "  test error 25.2, test bhatt 0.0164\n",
      "step 590\n",
      "  d_pairs, d_non_pairs = 5.02, 5.17\n",
      "  train error 25.2, train bhatt 0.022\n",
      "  test error 25.2, test bhatt 0.0169\n",
      "step 600\n",
      "  d_pairs, d_non_pairs = 4.69, 4.84\n",
      "  train error 25.2, train bhatt 0.0271\n",
      "  test error 25.2, test bhatt 0.0164\n",
      "step 610\n",
      "  d_pairs, d_non_pairs = 4.9, 5.08\n",
      "  train error 25.2, train bhatt 0.0343\n",
      "  test error 25.2, test bhatt 0.0173\n",
      "step 620\n",
      "  d_pairs, d_non_pairs = 4.79, 4.88\n",
      "  train error 25.2, train bhatt 0.0129\n",
      "  test error 25.2, test bhatt 0.0183\n",
      "step 630\n",
      "  d_pairs, d_non_pairs = 5.02, 5.15\n",
      "  train error 25.2, train bhatt 0.0249\n",
      "  test error 25.2, test bhatt 0.0178\n",
      "step 640\n",
      "  d_pairs, d_non_pairs = 4.75, 5\n",
      "  train error 25.2, train bhatt 0.0476\n",
      "  test error 25.2, test bhatt 0.0179\n",
      "step 650\n",
      "  d_pairs, d_non_pairs = 4.91, 4.97\n",
      "  train error 25.1, train bhatt 0.00772\n",
      "  test error 25.2, test bhatt 0.0176\n",
      "step 660\n",
      "  d_pairs, d_non_pairs = 4.83, 5\n",
      "  train error 25.2, train bhatt 0.0322\n",
      "  test error 25.2, test bhatt 0.0173\n",
      "step 670\n",
      "  d_pairs, d_non_pairs = 4.92, 5.08\n",
      "  train error 25.1, train bhatt 0.0241\n",
      "  test error 25.2, test bhatt 0.0171\n",
      "step 680\n",
      "  d_pairs, d_non_pairs = 4.82, 4.93\n",
      "  train error 25.2, train bhatt 0.0126\n",
      "  test error 25.2, test bhatt 0.0165\n",
      "step 690\n",
      "  d_pairs, d_non_pairs = 4.99, 5.12\n",
      "  train error 25.1, train bhatt 0.0275\n",
      "  test error 25.2, test bhatt 0.017\n",
      "step 700\n",
      "  d_pairs, d_non_pairs = 4.77, 4.98\n",
      "  train error 25.2, train bhatt 0.031\n",
      "  test error 25.2, test bhatt 0.0174\n",
      "step 710\n",
      "  d_pairs, d_non_pairs = 5.02, 4.99\n",
      "  train error 25.1, train bhatt 0.0043\n",
      "  test error 25.2, test bhatt 0.0169\n",
      "step 720\n",
      "  d_pairs, d_non_pairs = 4.9, 4.96\n",
      "  train error 25.1, train bhatt 0.0144\n",
      "  test error 25.2, test bhatt 0.0169\n",
      "step 730\n",
      "  d_pairs, d_non_pairs = 4.95, 5.06\n",
      "  train error 25.1, train bhatt 0.016\n",
      "  test error 25.2, test bhatt 0.0159\n",
      "step 740\n",
      "  d_pairs, d_non_pairs = 4.95, 5.06\n",
      "  train error 25.1, train bhatt 0.016\n",
      "  test error 25.2, test bhatt 0.0155\n",
      "step 750\n",
      "  d_pairs, d_non_pairs = 4.79, 5.09\n",
      "  train error 25.2, train bhatt 0.0633\n",
      "  test error 25.2, test bhatt 0.0154\n",
      "step 760\n",
      "  d_pairs, d_non_pairs = 5.05, 5.1\n",
      "  train error 25.2, train bhatt 0.0149\n",
      "  test error 25.2, test bhatt 0.0149\n",
      "step 770\n",
      "  d_pairs, d_non_pairs = 4.66, 5.02\n",
      "  train error 25.2, train bhatt 0.0989\n",
      "  test error 25.2, test bhatt 0.0148\n",
      "step 780\n",
      "  d_pairs, d_non_pairs = 4.81, 5.09\n",
      "  train error 25.1, train bhatt 0.0806\n",
      "  test error 25.2, test bhatt 0.0146\n",
      "step 790\n",
      "  d_pairs, d_non_pairs = 4.89, 5.04\n",
      "  train error 25.2, train bhatt 0.0178\n",
      "  test error 25.2, test bhatt 0.0146\n",
      "step 800\n",
      "  d_pairs, d_non_pairs = 4.91, 5.07\n",
      "  train error 25.1, train bhatt 0.0344\n",
      "  test error 25.2, test bhatt 0.0153\n",
      "step 810\n",
      "  d_pairs, d_non_pairs = 4.83, 4.98\n",
      "  train error 25.2, train bhatt 0.0227\n",
      "  test error 25.2, test bhatt 0.0159\n",
      "step 820\n",
      "  d_pairs, d_non_pairs = 5.04, 5.26\n",
      "  train error 25.2, train bhatt 0.0339\n",
      "  test error 25.2, test bhatt 0.015\n",
      "step 830\n",
      "  d_pairs, d_non_pairs = 4.64, 4.92\n",
      "  train error 25.2, train bhatt 0.104\n",
      "  test error 25.2, test bhatt 0.0149\n",
      "step 840\n",
      "  d_pairs, d_non_pairs = 4.97, 5.16\n",
      "  train error 25.2, train bhatt 0.0276\n",
      "  test error 25.2, test bhatt 0.0152\n",
      "step 850\n",
      "  d_pairs, d_non_pairs = 4.78, 4.9\n",
      "  train error 25.2, train bhatt 0.02\n",
      "  test error 25.2, test bhatt 0.0144\n",
      "step 860\n",
      "  d_pairs, d_non_pairs = 4.86, 4.99\n",
      "  train error 25.1, train bhatt 0.0183\n",
      "  test error 25.2, test bhatt 0.0142\n",
      "step 870\n",
      "  d_pairs, d_non_pairs = 4.82, 4.9\n",
      "  train error 25.2, train bhatt 0.00522\n",
      "  test error 25.2, test bhatt 0.0145\n",
      "step 880\n",
      "  d_pairs, d_non_pairs = 4.98, 5.14\n",
      "  train error 25.2, train bhatt 0.0232\n",
      "  test error 25.2, test bhatt 0.0156\n",
      "step 890\n",
      "  d_pairs, d_non_pairs = 4.97, 5\n",
      "  train error 25.1, train bhatt 0.00721\n",
      "  test error 25.2, test bhatt 0.0156\n",
      "step 900\n",
      "  d_pairs, d_non_pairs = 4.93, 5\n",
      "  train error 25.1, train bhatt 0.0179\n",
      "  test error 25.2, test bhatt 0.0156\n",
      "step 910\n",
      "  d_pairs, d_non_pairs = 4.83, 5.11\n",
      "  train error 25.2, train bhatt 0.0764\n",
      "  test error 25.2, test bhatt 0.0151\n",
      "step 920\n",
      "  d_pairs, d_non_pairs = 4.77, 4.86\n",
      "  train error 25.2, train bhatt 0.0116\n",
      "  test error 25.2, test bhatt 0.0143\n",
      "step 930\n",
      "  d_pairs, d_non_pairs = 4.74, 4.95\n",
      "  train error 25.2, train bhatt 0.0476\n",
      "  test error 25.2, test bhatt 0.0153\n",
      "step 940\n",
      "  d_pairs, d_non_pairs = 4.75, 4.99\n",
      "  train error 25.1, train bhatt 0.0656\n",
      "  test error 25.2, test bhatt 0.0146\n",
      "step 950\n",
      "  d_pairs, d_non_pairs = 4.7, 4.96\n",
      "  train error 25.2, train bhatt 0.0609\n",
      "  test error 25.2, test bhatt 0.0142\n",
      "step 960\n",
      "  d_pairs, d_non_pairs = 5.12, 5.22\n",
      "  train error 25.1, train bhatt 0.0163\n",
      "  test error 25.2, test bhatt 0.0143\n",
      "step 970\n",
      "  d_pairs, d_non_pairs = 4.99, 5.07\n",
      "  train error 25.1, train bhatt 0.0116\n",
      "  test error 25.2, test bhatt 0.015\n",
      "step 980\n",
      "  d_pairs, d_non_pairs = 5.21, 5.17\n",
      "  train error 25.1, train bhatt 0.00196\n",
      "  test error 25.2, test bhatt 0.015\n",
      "step 990\n",
      "  d_pairs, d_non_pairs = 4.83, 5.01\n",
      "  train error 25.2, train bhatt 0.0288\n",
      "  test error 25.2, test bhatt 0.0154\n",
      "step 1000\n",
      "  d_pairs, d_non_pairs = 4.96, 5.03\n",
      "  train error 25.1, train bhatt 0.00504\n",
      "  test error 25.2, test bhatt 0.0147\n",
      "step 1010\n",
      "  d_pairs, d_non_pairs = 4.93, 5.15\n",
      "  train error 25.1, train bhatt 0.0705\n",
      "  test error 25.2, test bhatt 0.0144\n",
      "step 1020\n",
      "  d_pairs, d_non_pairs = 4.89, 5.01\n",
      "  train error 25.2, train bhatt 0.0122\n",
      "  test error 25.2, test bhatt 0.0142\n",
      "step 1030\n",
      "  d_pairs, d_non_pairs = 5.06, 5.06\n",
      "  train error 25.1, train bhatt 0.00225\n",
      "  test error 25.2, test bhatt 0.0131\n",
      "step 1040\n",
      "  d_pairs, d_non_pairs = 5.01, 5.21\n",
      "  train error 25.1, train bhatt 0.0501\n",
      "  test error 25.2, test bhatt 0.0133\n",
      "step 1050\n",
      "  d_pairs, d_non_pairs = 4.95, 4.96\n",
      "  train error 25.1, train bhatt 0.00495\n",
      "  test error 25.2, test bhatt 0.0129\n",
      "step 1060\n",
      "  d_pairs, d_non_pairs = 4.98, 5.2\n",
      "  train error 25.1, train bhatt 0.0496\n",
      "  test error 25.2, test bhatt 0.0146\n",
      "step 1070\n",
      "  d_pairs, d_non_pairs = 4.96, 4.92\n",
      "  train error 25.1, train bhatt 0.00277\n",
      "  test error 25.2, test bhatt 0.015\n",
      "step 1080\n",
      "  d_pairs, d_non_pairs = 4.96, 4.94\n",
      "  train error 25.1, train bhatt 0.00526\n",
      "  test error 25.2, test bhatt 0.015\n",
      "step 1090\n",
      "  d_pairs, d_non_pairs = 4.96, 5.11\n",
      "  train error 25.1, train bhatt 0.0366\n",
      "  test error 25.2, test bhatt 0.0153\n",
      "step 1100\n",
      "  d_pairs, d_non_pairs = 4.95, 5.02\n",
      "  train error 25.1, train bhatt 0.00604\n",
      "  test error 25.2, test bhatt 0.015\n",
      "step 1110\n",
      "  d_pairs, d_non_pairs = 4.91, 5\n",
      "  train error 25.1, train bhatt 0.0116\n",
      "  test error 25.2, test bhatt 0.0148\n",
      "step 1120\n",
      "  d_pairs, d_non_pairs = 4.99, 5.11\n",
      "  train error 25.1, train bhatt 0.0323\n",
      "  test error 25.2, test bhatt 0.0145\n",
      "step 1130\n",
      "  d_pairs, d_non_pairs = 4.99, 5.06\n",
      "  train error 25.1, train bhatt 0.00512\n",
      "  test error 25.2, test bhatt 0.0147\n",
      "step 1140\n",
      "  d_pairs, d_non_pairs = 4.94, 5.04\n",
      "  train error 25.1, train bhatt 0.0123\n",
      "  test error 25.2, test bhatt 0.0141\n",
      "step 1150\n",
      "  d_pairs, d_non_pairs = 4.8, 4.93\n",
      "  train error 25.1, train bhatt 0.0312\n",
      "  test error 25.2, test bhatt 0.0147\n",
      "step 1160\n",
      "  d_pairs, d_non_pairs = 4.81, 5.05\n",
      "  train error 25.1, train bhatt 0.104\n",
      "  test error 25.2, test bhatt 0.0141\n",
      "step 1170\n",
      "  d_pairs, d_non_pairs = 4.94, 5.08\n",
      "  train error 25.2, train bhatt 0.0737\n",
      "  test error 25.2, test bhatt 0.0128\n",
      "step 1180\n",
      "  d_pairs, d_non_pairs = 4.92, 4.92\n",
      "  train error 25.1, train bhatt 0.00966\n",
      "  test error 25.2, test bhatt 0.0123\n",
      "step 1190\n",
      "  d_pairs, d_non_pairs = 5.13, 5.16\n",
      "  train error 25.2, train bhatt 0.0102\n",
      "  test error 25.2, test bhatt 0.0121\n",
      "step 1200\n",
      "  d_pairs, d_non_pairs = 4.99, 5.01\n",
      "  train error 25.2, train bhatt 0.00161\n",
      "  test error 25.2, test bhatt 0.0123\n",
      "step 1210\n",
      "  d_pairs, d_non_pairs = 4.93, 5\n",
      "  train error 25.1, train bhatt 0.00599\n",
      "  test error 25.2, test bhatt 0.012\n",
      "step 1220\n",
      "  d_pairs, d_non_pairs = 5.12, 5.16\n",
      "  train error 25.1, train bhatt 0.00311\n",
      "  test error 25.2, test bhatt 0.0124\n",
      "step 1230\n",
      "  d_pairs, d_non_pairs = 4.75, 4.91\n",
      "  train error 25.2, train bhatt 0.0257\n",
      "  test error 25.2, test bhatt 0.0129\n",
      "step 1240\n",
      "  d_pairs, d_non_pairs = 5.02, 5.05\n",
      "  train error 25.1, train bhatt 0.00367\n",
      "  test error 25.2, test bhatt 0.0149\n",
      "step [end]\n",
      "  d_pairs, d_non_pairs = 5.01, 4.97\n",
      "  train error 25.1, train bhatt 0.0404\n",
      "  test error 25.2, test bhatt 0.0145\n"
     ]
    }
   ],
   "source": [
    "n_epoques = 1250 # 1000 ~ 4 x tests set of 50% of all data\n",
    "lr = 0.0001\n",
    "\n",
    "train_batches = get_batches([X_A, X_B, Y], batch_size=100)\n",
    "for step in range(n_epoques):  \n",
    "    batch = next(train_batches)\n",
    "    if step%10 == 0:\n",
    "        report(step, batch)\n",
    "    train_feed = {x_A:batch[0], x_B:batch[1], y_: batch[2], keep_prob: 0.5, learning_rate: lr}\n",
    "    train_step.run(feed_dict=train_feed)\n",
    "report('[end]', batch)"
   ]
  },
  {
   "cell_type": "markdown",
   "metadata": {},
   "source": [
    "#### plot loss function "
   ]
  },
  {
   "cell_type": "code",
   "execution_count": 24,
   "metadata": {
    "collapsed": false
   },
   "outputs": [
    {
     "data": {
      "image/png": "[encoded data removed]",
      "text/plain": [
       "<matplotlib.figure.Figure at 0x11c177fd0>"
      ]
     },
     "metadata": {},
     "output_type": "display_data"
    }
   ],
   "source": [
    "plt.figure(figsize=(10,10))\n",
    "\n",
    "plt.subplot(311)\n",
    "plt.plot(train_error_log);\n",
    "plt.plot(error_pairs_log, color='g');\n",
    "plt.plot(error_non_pairs_log, color='r');\n",
    "plt.plot(test_error_log, color='k');\n",
    "plt.title('loss function and pairs vs non-pairs components');\n",
    "\n",
    "plt.subplot(312)\n",
    "plt.plot(d_pairs_log, color='g');\n",
    "plt.plot(d_non_pairs_log, color='r');\n",
    "plt.title('average distance, pairs vs non-pairs');\n",
    "\n",
    "plt.subplot(313)\n",
    "plt.plot(np.log(train_bhatt_log));\n",
    "plt.plot(np.log(test_bhatt_log), 'k');\n",
    "plt.title('bhattacharyya distance');"
   ]
  },
  {
   "cell_type": "markdown",
   "metadata": {},
   "source": [
    "#### train distances"
   ]
  },
  {
   "cell_type": "code",
   "execution_count": 25,
   "metadata": {
    "collapsed": false
   },
   "outputs": [
    {
     "name": "stdout",
     "output_type": "stream",
     "text": [
      "bhatt = (0.040415121093528732, 5.0074825, 4.9721627)\n"
     ]
    },
    {
     "data": {
      "image/png": "[encoded data removed]",
      "text/plain": [
       "<matplotlib.figure.Figure at 0x11e937ed0>"
      ]
     },
     "metadata": {},
     "output_type": "display_data"
    }
   ],
   "source": [
    "pair_dists = np.sqrt(squared_dists_log[-1][np.where(labels_log[-1]==1)])\n",
    "non_pair_dists = np.sqrt(squared_dists_log[-1][np.where(labels_log[-1]==0)])\n",
    "L1 = pair_loss.eval(feed_dict={x_A:batch[0], x_B:batch[1], y_:batch[2], keep_prob: 1.0})\n",
    "L2 = non_pair_loss.eval(feed_dict={x_A:batch[0], x_B:batch[1], y_:batch[2], keep_prob: 1.0})\n",
    "\n",
    "bins = np.arange(0,10,0.4)\n",
    "plt.figure(figsize=(15,5))\n",
    "plt.subplot(121)\n",
    "plt.hist(non_pair_dists, bins=bins, alpha=0.5);\n",
    "plt.hist(pair_dists, bins=bins, color='r', alpha=0.5);\n",
    "plt.subplot(143)\n",
    "plt.boxplot([non_pair_dists, pair_dists]);\n",
    "\n",
    "print('bhatt =', approx_bhattacharyya(squared_dists_log[-1], labels_log[-1]))"
   ]
  },
  {
   "cell_type": "markdown",
   "metadata": {},
   "source": [
    "#### test distances"
   ]
  },
  {
   "cell_type": "code",
   "execution_count": 26,
   "metadata": {
    "collapsed": false
   },
   "outputs": [
    {
     "name": "stdout",
     "output_type": "stream",
     "text": [
      "bhatt = (0.014522125594975593, 4.8732686, 5.0141454)\n"
     ]
    },
    {
     "data": {
      "image/png": "[encoded data removed]",
      "text/plain": [
       "<matplotlib.figure.Figure at 0x11e90bad0>"
      ]
     },
     "metadata": {},
     "output_type": "display_data"
    }
   ],
   "source": [
    "test_squared_dists = squared_errors.eval(feed_dict={x_A:X_A_T, x_B:X_B_T, keep_prob: 1.0})\n",
    "test_squared_dists = np.sum(test_squared_dists, axis=1)\n",
    "\n",
    "test_pair_dists = np.sqrt(test_squared_dists[np.where(Y_T==1)[0]])\n",
    "test_non_pair_dists = np.sqrt(test_squared_dists[np.where(Y_T==0)[0]])\n",
    "\n",
    "bins = np.arange(0,10,0.4)\n",
    "plt.figure()\n",
    "plt.hist(test_non_pair_dists, bins=bins, alpha=0.5);\n",
    "plt.hist(test_pair_dists, bins=bins, color='r', alpha=0.5);\n",
    "\n",
    "print('bhatt =', approx_bhattacharyya(test_squared_dists, Y_T))"
   ]
  },
  {
   "cell_type": "markdown",
   "metadata": {},
   "source": [
    "### Test"
   ]
  },
  {
   "cell_type": "code",
   "execution_count": 27,
   "metadata": {
    "collapsed": false
   },
   "outputs": [],
   "source": [
    "# # subset\n",
    "# test_subset = {uri: test_cliques[uri] for uri in test_cliques.keys()[:200]}\n",
    "\n",
    "# print('Preloading chroma...')\n",
    "# test_uris = util.uris_from_clique_dict(test_subset)\n",
    "# chroma_dict_T = SHS_data.preload_chroma(test_uris)\n",
    "\n",
    "# print('Collecting test dataset...')\n",
    "# X_A_T, X_B_T, is_cover_T, test_pair_uris_T = paired_data.dataset_of_pairs(test_subset, chroma_dict_T,\n",
    "#                                                              n_patches=n_patches, patch_len=patch_len)\n",
    "# print(X_A_T.shape, X_B_T.shape, is_cover_T.shape)\n",
    "\n",
    "# Y_T = is_cover_T.astype(float)"
   ]
  },
  {
   "cell_type": "code",
   "execution_count": null,
   "metadata": {
    "collapsed": true
   },
   "outputs": [],
   "source": []
  }
 ],
 "metadata": {
  "kernelspec": {
   "display_name": "Python 2",
   "language": "python",
   "name": "python2"
  },
  "language_info": {
   "codemirror_mode": {
    "name": "ipython",
    "version": 2
   },
   "file_extension": ".py",
   "mimetype": "text/x-python",
   "name": "python",
   "nbconvert_exporter": "python",
   "pygments_lexer": "ipython2",
   "version": "2.7.11"
  }
 },
 "nbformat": 4,
 "nbformat_minor": 0
}
