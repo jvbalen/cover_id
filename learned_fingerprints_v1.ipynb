{
 "cells": [
  {
   "cell_type": "code",
   "execution_count": 1,
   "metadata": {
    "collapsed": true
   },
   "outputs": [],
   "source": [
    "%matplotlib inline\n",
    "\n",
    "from __future__ import division, print_function\n",
    "\n",
    "import numpy as np\n",
    "import matplotlib.pyplot as plt\n",
    "import tensorflow as tf\n",
    "\n",
    "import SHS_data\n",
    "import util\n",
    "import paired_data\n",
    "\n",
    "reload(paired_data);"
   ]
  },
  {
   "cell_type": "markdown",
   "metadata": {},
   "source": [
    "## Learning cover song fingerprints\n",
    "\n",
    "### Load some data"
   ]
  },
  {
   "cell_type": "code",
   "execution_count": 2,
   "metadata": {
    "collapsed": false
   },
   "outputs": [
    {
     "name": "stdout",
     "output_type": "stream",
     "text": [
      "Preloading chroma...\n",
      "Collecting training dataset...\n",
      "(32436, 512, 12) (32436, 512, 12) (32436, 1)\n"
     ]
    }
   ],
   "source": [
    "ratio = (50,20,30)\n",
    "clique_dict, _ = SHS_data.read_cliques()\n",
    "train_cliques, test_cliques, _ = util.split_train_test_validation(clique_dict, ratio=ratio)\n",
    "\n",
    "print('Preloading chroma...')\n",
    "train_uris = util.uris_from_clique_dict(train_cliques)\n",
    "chroma_dict = SHS_data.preload_chroma(train_uris)\n",
    "\n",
    "print('Collecting training dataset...')\n",
    "n_patches, patch_len = 8, 64\n",
    "X_A, X_B, is_cover, pair_uris = paired_data.dataset_of_pairs(train_cliques, chroma_dict,\n",
    "                                                             n_patches=n_patches, patch_len=patch_len)\n",
    "Y = is_cover.astype(float)\n",
    "Y = Y.reshape((-1,1))\n",
    "\n",
    "print(X_A.shape, X_B.shape, Y.shape)"
   ]
  },
  {
   "cell_type": "markdown",
   "metadata": {},
   "source": [
    "### Batch generators"
   ]
  },
  {
   "cell_type": "code",
   "execution_count": 3,
   "metadata": {
    "collapsed": false
   },
   "outputs": [],
   "source": [
    "def get_random_batch(cols, batch_size=50):\n",
    "    ind = np.random.randint(0, len(cols[-1]), batch_size)\n",
    "    return [col[ind] for col in cols]\n",
    "\n",
    "def get_batches(arrays, batch_size=50):\n",
    "    \"\"\"Batch generator, no shuffling.\n",
    "    \n",
    "    Args:\n",
    "        arrays (list): list of arrays. Arrays should have equal length\n",
    "        batch_size (int): number of examples per batch\n",
    "        \n",
    "    Yields:\n",
    "        list: list of batches of length batch_size\n",
    "        \n",
    "    Usage:\n",
    "    >>> batches = get_batches([X, Y], batch_size=50)\n",
    "    >>> x, y = batches.next()\n",
    "    \"\"\"\n",
    "    array_lengths = [len(array) for array in arrays]\n",
    "    n_examples = array_lengths[0]\n",
    "    if not np.all(np.array(array_lengths) == n_examples):\n",
    "        raise ValueError('Arrays must have the same length.')\n",
    "    start = 0\n",
    "    while True:\n",
    "        start = np.mod(start, n_examples)\n",
    "        stop = start + batch_size\n",
    "        batch = [np.take(array, range(start, stop), axis=0, mode='wrap') for array in arrays]\n",
    "        start = stop\n",
    "        yield batch\n",
    "        \n",
    "# # test\n",
    "# x = np.arange(100)\n",
    "# y = x + 1988\n",
    "# batches = get_batches([x, y], batch_size=7)\n",
    "# for i in range(20):\n",
    "#     print(next(batches))"
   ]
  },
  {
   "cell_type": "markdown",
   "metadata": {},
   "source": [
    "### Tensorflow shorthands"
   ]
  },
  {
   "cell_type": "code",
   "execution_count": 33,
   "metadata": {
    "collapsed": true
   },
   "outputs": [],
   "source": [
    "def weight_variable(shape):\n",
    "    initial = tf.truncated_normal(shape, stddev=0.1)\n",
    "    return tf.Variable(initial)\n",
    "\n",
    "def bias_variable(shape):\n",
    "    initial = tf.constant(0.1, shape=shape)\n",
    "    return tf.Variable(initial)"
   ]
  },
  {
   "cell_type": "code",
   "execution_count": 34,
   "metadata": {
    "collapsed": true
   },
   "outputs": [],
   "source": [
    "def conv_bins(x, W):\n",
    "    return tf.nn.conv2d(x, W, strides=[1, 1, 1, 1], padding='VALID')\n",
    "\n",
    "def conv_frames(x, W):\n",
    "    return tf.nn.conv2d(x, W, strides=[1, 1, 1, 1], padding='SAME')\n",
    "\n",
    "def max_pool_4x1(x):\n",
    "    return tf.nn.max_pool(x, ksize=[1, 4, 1, 1],\n",
    "                        strides=[1, 4, 1, 1], padding='SAME')\n",
    "\n",
    "def max_pool_8x1(x):\n",
    "    return tf.nn.max_pool(x, ksize=[1, 8, 1, 1],\n",
    "                        strides=[1, 8, 1, 1], padding='SAME')\n",
    "\n",
    "def max_pool_16x1(x):\n",
    "    return tf.nn.max_pool(x, ksize=[1, 16, 1, 1],\n",
    "                        strides=[1, 16, 1, 1], padding='SAME')"
   ]
  },
  {
   "cell_type": "markdown",
   "metadata": {},
   "source": [
    "### Network\n",
    "\n",
    "#### input"
   ]
  },
  {
   "cell_type": "code",
   "execution_count": 35,
   "metadata": {
    "collapsed": false
   },
   "outputs": [],
   "source": [
    "input_len = n_patches * patch_len\n",
    "\n",
    "x_A = tf.placeholder(\"float\", shape=[None, input_len, 12])\n",
    "x_B = tf.placeholder(\"float\", shape=[None, input_len, 12])\n",
    "y_ = tf.placeholder(\"float\", shape=[None, 1])\n",
    "\n",
    "x_image_A = tf.reshape(x_A, [-1, input_len, 12, 1])\n",
    "x_image_B = tf.reshape(x_B, [-1, input_len, 12, 1])"
   ]
  },
  {
   "cell_type": "markdown",
   "metadata": {},
   "source": [
    "#### conv layer 1"
   ]
  },
  {
   "cell_type": "code",
   "execution_count": 36,
   "metadata": {
    "collapsed": false
   },
   "outputs": [],
   "source": [
    "W_conv1 = weight_variable([1, 12, 1, 32])\n",
    "b_conv1 = bias_variable([32])\n",
    "\n",
    "h_conv1_A = tf.nn.relu(conv_bins(x_image_A, W_conv1) + b_conv1)\n",
    "h_conv1_B = tf.nn.relu(conv_bins(x_image_B, W_conv1) + b_conv1)\n",
    "\n",
    "h_pool1_A = max_pool_4x1(h_conv1_A)\n",
    "h_pool1_B = max_pool_4x1(h_conv1_B)"
   ]
  },
  {
   "cell_type": "markdown",
   "metadata": {},
   "source": [
    "#### conv layer 2"
   ]
  },
  {
   "cell_type": "code",
   "execution_count": 37,
   "metadata": {
    "collapsed": false
   },
   "outputs": [],
   "source": [
    "W_conv2 = weight_variable([2, 1, 32, 64])\n",
    "b_conv2 = bias_variable([64])\n",
    "\n",
    "h_conv2_A = tf.nn.relu(conv_frames(h_pool1_A, W_conv2) + b_conv2)\n",
    "h_conv2_B = tf.nn.relu(conv_frames(h_pool1_B, W_conv2) + b_conv2)\n",
    "\n",
    "h_pool2_A = max_pool_16x1(h_conv2_A)\n",
    "h_pool2_B = max_pool_16x1(h_conv2_B)"
   ]
  },
  {
   "cell_type": "markdown",
   "metadata": {},
   "source": [
    "#### fully connected layer"
   ]
  },
  {
   "cell_type": "code",
   "execution_count": 38,
   "metadata": {
    "collapsed": false
   },
   "outputs": [],
   "source": [
    "keep_prob = tf.placeholder(\"float\")\n",
    "\n",
    "h_pool2_A_flat = tf.reshape(h_pool2_A, [-1, 8*64])  # flatten images first\n",
    "h_pool2_B_flat = tf.reshape(h_pool2_B, [-1, 8*64])"
   ]
  },
  {
   "cell_type": "markdown",
   "metadata": {},
   "source": [
    "#### arch A: no fc layer"
   ]
  },
  {
   "cell_type": "code",
   "execution_count": 39,
   "metadata": {
    "collapsed": true
   },
   "outputs": [],
   "source": [
    "h_tanh1_A = tf.nn.tanh(h_pool2_A_flat)\n",
    "h_tanh1_B = tf.nn.tanh(h_pool2_B_flat)"
   ]
  },
  {
   "cell_type": "markdown",
   "metadata": {},
   "source": [
    "#### arch B: 768 fc layer + tanh out"
   ]
  },
  {
   "cell_type": "code",
   "execution_count": 40,
   "metadata": {
    "collapsed": true
   },
   "outputs": [],
   "source": [
    "W_fc1 = weight_variable([8*64, 128])\n",
    "b_fc1 = bias_variable([128])\n",
    "\n",
    "h_fc1_A = tf.nn.relu(tf.matmul(h_pool2_A_flat, W_fc1) + b_fc1)\n",
    "h_fc1_B = tf.nn.relu(tf.matmul(h_pool2_B_flat, W_fc1) + b_fc1)\n",
    "\n",
    "h_tanh2_A = tf.nn.tanh(h_fc1_A)\n",
    "h_tanh2_B = tf.nn.tanh(h_fc1_B)"
   ]
  },
  {
   "cell_type": "markdown",
   "metadata": {},
   "source": [
    "#### arch C: extra fc layer"
   ]
  },
  {
   "cell_type": "code",
   "execution_count": 42,
   "metadata": {
    "collapsed": false
   },
   "outputs": [],
   "source": [
    "# h_norm1_A = tf.nn.l2_normalize(h_fc1_A_drop, dim=1)\n",
    "# h_norm1_B = tf.nn.l2_normalize(h_fc1_B_drop, dim=1)\n",
    "\n",
    "h_fc1_A_drop = tf.nn.dropout(h_fc1_A, keep_prob)\n",
    "h_fc1_B_drop = tf.nn.dropout(h_fc1_B, keep_prob)\n",
    "\n",
    "W_fc2 = weight_variable([128, 16])\n",
    "b_fc2 = bias_variable([16])\n",
    "\n",
    "h_tanh3_A = tf.nn.tanh(tf.matmul(h_fc1_A_drop, W_fc2) + b_fc2)\n",
    "h_tanh3_B = tf.nn.tanh(tf.matmul(h_fc1_B_drop, W_fc2) + b_fc2)"
   ]
  },
  {
   "cell_type": "markdown",
   "metadata": {},
   "source": [
    "### Objective function\n",
    "\n",
    "Minize pair distances while maximizing non-pair distances smaller than `m`\n",
    "\n",
    "Following [1].\n",
    "\n",
    "1. Raffel, C., & Ellis, D. P. W. (2015). Large-Scale Content-Based Matching of Midi and Audio Files. Proceedings of the 16th International Society for Music Information Retrieval Conference (ISMIR), 234–240."
   ]
  },
  {
   "cell_type": "code",
   "execution_count": 69,
   "metadata": {
    "collapsed": false
   },
   "outputs": [],
   "source": [
    "alpha = 1\n",
    "m = 10 # e.g., sqrt(256)\n",
    "\n",
    "squared_error = tf.reduce_sum(tf.square(h_tanh2_A - h_tanh2_B), reduction_indices=1, keep_dims=True)\n",
    "pair_loss = tf.reduce_sum(y_ * squared_error)\n",
    "non_pair_loss = tf.reduce_sum((1 - y_) * tf.square(tf.maximum(0.0, m - tf.sqrt(squared_error))))\n",
    "\n",
    "loss_function = pair_loss + alpha * non_pair_loss\n",
    "                 \n",
    "\n",
    "error_float = tf.cast(loss_function, \"float\")\n",
    "\n",
    "# optimizer\n",
    "# train_step = tf.train.AdamOptimizer(1e-4).minimize(loss_function)\n",
    "train_step = tf.train.RMSPropOptimizer(1e-4, decay=0.8).minimize(loss_function)"
   ]
  },
  {
   "cell_type": "markdown",
   "metadata": {},
   "source": [
    "#### Bhattacharyya distance"
   ]
  },
  {
   "cell_type": "code",
   "execution_count": 70,
   "metadata": {
    "collapsed": false
   },
   "outputs": [],
   "source": [
    "def approx_bhattacharyya(squared_dists, is_cover):\n",
    "    \"\"\"Approximate bhattacharyya distance between cover and non-cover distances.\n",
    "    \n",
    "    Similar to Mahalanobis distance, but for distributions with different variances.\n",
    "    Assumes normality, hence approximate (distances are bound by 0).\n",
    "    \"\"\"\n",
    "    pair_dists = np.sqrt(squared_dists[np.where(is_cover==1)])\n",
    "    non_pair_dists = np.sqrt(squared_dists[np.where(is_cover==0)])\n",
    "    \n",
    "    mu_pairs, sigma2_pairs = np.mean(pair_dists), np.var(pair_dists)\n",
    "    mu_non_pairs, sigma2_non_pairs = np.mean(non_pair_dists), np.var(non_pair_dists)\n",
    "    \n",
    "    print('  mu_pairs, mu_non_pairs = %.3g, %.3g' % (mu_pairs, mu_non_pairs))\n",
    "#     print('  sigma2_pairs, sigma2_non_pairs = %.3g, %.3g' % (sigma2_pairs, sigma2_non_pairs))\n",
    "\n",
    "    bhatt = (0.25 * np.log(0.25 * (sigma2_pairs/sigma2_non_pairs + sigma2_non_pairs/sigma2_pairs + 2)) +\n",
    "             0.25 * (mu_pairs - mu_non_pairs)**2 / (sigma2_pairs + sigma2_non_pairs))\n",
    "    return bhatt, mu_pairs, mu_non_pairs"
   ]
  },
  {
   "cell_type": "markdown",
   "metadata": {},
   "source": [
    "### Training"
   ]
  },
  {
   "cell_type": "code",
   "execution_count": 71,
   "metadata": {
    "collapsed": false
   },
   "outputs": [
    {
     "name": "stderr",
     "output_type": "stream",
     "text": [
      "Exception AssertionError: AssertionError() in <bound method InteractiveSession.__del__ of <tensorflow.python.client.session.InteractiveSession object at 0x12b5e84d0>> ignored\n"
     ]
    }
   ],
   "source": [
    "sess = tf.InteractiveSession()\n",
    "sess.run(tf.initialize_all_variables())"
   ]
  },
  {
   "cell_type": "code",
   "execution_count": 72,
   "metadata": {
    "collapsed": false
   },
   "outputs": [
    {
     "name": "stdout",
     "output_type": "stream",
     "text": [
      "step 0\n",
      "  pair_loss 16.3, non_pair_loss 5.65e+03\n",
      "  mu_pairs, mu_non_pairs = 0.5, 0.606\n",
      "  error 5.66e+03, bhatt 0.249\n",
      "step 10\n",
      "  pair_loss 21.4, non_pair_loss 5.57e+03\n",
      "  mu_pairs, mu_non_pairs = 0.573, 0.673\n",
      "  error 5.59e+03, bhatt 0.161\n",
      "step 20\n",
      "  pair_loss 28.4, non_pair_loss 5.48e+03\n",
      "  mu_pairs, mu_non_pairs = 0.657, 0.744\n",
      "  error 5.51e+03, bhatt 0.0712\n",
      "step 30\n",
      "  pair_loss 40.5, non_pair_loss 5.39e+03\n",
      "  mu_pairs, mu_non_pairs = 0.783, 0.825\n",
      "  error 5.43e+03, bhatt 0.0118\n",
      "step 40\n",
      "  pair_loss 39, non_pair_loss 5.38e+03\n",
      "  mu_pairs, mu_non_pairs = 0.772, 0.831\n",
      "  error 5.42e+03, bhatt 0.0337\n",
      "step 50\n",
      "  pair_loss 51.1, non_pair_loss 5.24e+03\n",
      "  mu_pairs, mu_non_pairs = 0.884, 0.956\n",
      "  error 5.29e+03, bhatt 0.0394\n",
      "step 60\n",
      "  pair_loss 48.8, non_pair_loss 5.23e+03\n",
      "  mu_pairs, mu_non_pairs = 0.859, 0.961\n",
      "  error 5.28e+03, bhatt 0.0514\n",
      "step 70\n",
      "  pair_loss 53.6, non_pair_loss 5.09e+03\n",
      "  mu_pairs, mu_non_pairs = 0.891, 1.09\n",
      "  error 5.14e+03, bhatt 0.101\n",
      "step 80\n",
      "  pair_loss 73.2, non_pair_loss 5.03e+03\n",
      "  mu_pairs, mu_non_pairs = 1.04, 1.14\n",
      "  error 5.1e+03, bhatt 0.0244\n",
      "step 90\n",
      "  pair_loss 80.6, non_pair_loss 4.92e+03\n",
      "  mu_pairs, mu_non_pairs = 1.09, 1.24\n",
      "  error 5e+03, bhatt 0.0408\n",
      "step 100\n",
      "  pair_loss 70.8, non_pair_loss 4.87e+03\n",
      "  mu_pairs, mu_non_pairs = 1.02, 1.29\n",
      "  error 4.94e+03, bhatt 0.167\n",
      "step 110\n",
      "  pair_loss 84.8, non_pair_loss 4.98e+03\n",
      "  mu_pairs, mu_non_pairs = 1.12, 1.18\n",
      "  error 5.07e+03, bhatt 0.0145\n",
      "step 120\n",
      "  pair_loss 93.1, non_pair_loss 4.85e+03\n",
      "  mu_pairs, mu_non_pairs = 1.14, 1.31\n",
      "  error 4.94e+03, bhatt 0.0227\n",
      "step 130\n",
      "  pair_loss 113, non_pair_loss 4.66e+03\n",
      "  mu_pairs, mu_non_pairs = 1.18, 1.48\n",
      "  error 4.77e+03, bhatt 0.0395\n",
      "step 140\n",
      "  pair_loss 124, non_pair_loss 4.63e+03\n",
      "  mu_pairs, mu_non_pairs = 1.33, 1.51\n",
      "  error 4.76e+03, bhatt 0.0385\n",
      "step 150\n",
      "  pair_loss 102, non_pair_loss 4.49e+03\n",
      "  mu_pairs, mu_non_pairs = 1.2, 1.65\n",
      "  error 4.59e+03, bhatt 0.154\n",
      "step 160\n",
      "  pair_loss 219, non_pair_loss 4.38e+03\n",
      "  mu_pairs, mu_non_pairs = 1.71, 1.75\n",
      "  error 4.6e+03, bhatt 0.00338\n",
      "step 170\n",
      "  pair_loss 90.7, non_pair_loss 4.22e+03\n",
      "  mu_pairs, mu_non_pairs = 1.15, 1.93\n",
      "  error 4.31e+03, bhatt 0.419\n",
      "step 180\n",
      "  pair_loss 171, non_pair_loss 4.28e+03\n",
      "  mu_pairs, mu_non_pairs = 1.53, 1.85\n",
      "  error 4.45e+03, bhatt 0.0399\n",
      "step 190\n",
      "  pair_loss 220, non_pair_loss 4.06e+03\n",
      "  mu_pairs, mu_non_pairs = 1.72, 2.09\n",
      "  error 4.28e+03, bhatt 0.0481\n",
      "step 200\n",
      "  pair_loss 268, non_pair_loss 3.88e+03\n",
      "  mu_pairs, mu_non_pairs = 1.81, 2.27\n",
      "  error 4.15e+03, bhatt 0.0295\n",
      "step 210\n",
      "  pair_loss 271, non_pair_loss 4.04e+03\n",
      "  mu_pairs, mu_non_pairs = 1.89, 2.12\n",
      "  error 4.31e+03, bhatt 0.0174\n",
      "step 220\n",
      "  pair_loss 138, non_pair_loss 4.08e+03\n",
      "  mu_pairs, mu_non_pairs = 1.4, 2.07\n",
      "  error 4.22e+03, bhatt 0.232\n",
      "step 230\n",
      "  pair_loss 313, non_pair_loss 3.84e+03\n",
      "  mu_pairs, mu_non_pairs = 1.96, 2.34\n",
      "  error 4.15e+03, bhatt 0.0179\n",
      "step 240\n",
      "  pair_loss 307, non_pair_loss 3.88e+03\n",
      "  mu_pairs, mu_non_pairs = 1.82, 2.31\n",
      "  error 4.19e+03, bhatt 0.0209\n",
      "step 250\n",
      "  pair_loss 296, non_pair_loss 3.69e+03\n",
      "  mu_pairs, mu_non_pairs = 1.87, 2.51\n",
      "  error 3.98e+03, bhatt 0.0452\n",
      "step 260\n",
      "  pair_loss 322, non_pair_loss 3.37e+03\n",
      "  mu_pairs, mu_non_pairs = 1.97, 2.89\n",
      "  error 3.69e+03, bhatt 0.0848\n",
      "step 270\n",
      "  pair_loss 153, non_pair_loss 3.34e+03\n",
      "  mu_pairs, mu_non_pairs = 1.44, 3.01\n",
      "  error 3.49e+03, bhatt 0.448\n",
      "step 280\n",
      "  pair_loss 221, non_pair_loss 3.6e+03\n",
      "  mu_pairs, mu_non_pairs = 1.66, 2.58\n",
      "  error 3.82e+03, bhatt 0.13\n",
      "step 290\n",
      "  pair_loss 284, non_pair_loss 3.34e+03\n",
      "  mu_pairs, mu_non_pairs = 1.81, 2.97\n",
      "  error 3.62e+03, bhatt 0.128\n",
      "step 300\n",
      "  pair_loss 397, non_pair_loss 3.05e+03\n",
      "  mu_pairs, mu_non_pairs = 2.27, 3.3\n",
      "  error 3.44e+03, bhatt 0.129\n",
      "step 310\n",
      "  pair_loss 516, non_pair_loss 3.22e+03\n",
      "  mu_pairs, mu_non_pairs = 2.52, 3.14\n",
      "  error 3.73e+03, bhatt 0.0439\n",
      "step 320\n",
      "  pair_loss 650, non_pair_loss 3.26e+03\n",
      "  mu_pairs, mu_non_pairs = 2.78, 3.05\n",
      "  error 3.91e+03, bhatt 0.00382\n",
      "step 330\n",
      "  pair_loss 311, non_pair_loss 3.44e+03\n",
      "  mu_pairs, mu_non_pairs = 1.88, 2.88\n",
      "  error 3.75e+03, bhatt 0.0976\n",
      "step 340\n",
      "  pair_loss 566, non_pair_loss 3.59e+03\n",
      "  mu_pairs, mu_non_pairs = 2.53, 2.71\n",
      "  error 4.15e+03, bhatt 0.0029\n",
      "step 350\n",
      "  pair_loss 522, non_pair_loss 2.89e+03\n",
      "  mu_pairs, mu_non_pairs = 2.31, 3.53\n",
      "  error 3.41e+03, bhatt 0.0627\n",
      "step 360\n",
      "  pair_loss 398, non_pair_loss 3.07e+03\n",
      "  mu_pairs, mu_non_pairs = 2.24, 3.27\n",
      "  error 3.47e+03, bhatt 0.112\n",
      "step 370\n",
      "  pair_loss 453, non_pair_loss 3.06e+03\n",
      "  mu_pairs, mu_non_pairs = 2.35, 3.36\n",
      "  error 3.51e+03, bhatt 0.0941\n",
      "step 380\n",
      "  pair_loss 405, non_pair_loss 3.24e+03\n",
      "  mu_pairs, mu_non_pairs = 2.28, 3.01\n",
      "  error 3.65e+03, bhatt 0.0585\n",
      "step 390\n",
      "  pair_loss 950, non_pair_loss 2.76e+03\n",
      "  mu_pairs, mu_non_pairs = 3.33, 3.75\n",
      "  error 3.71e+03, bhatt 0.00579\n",
      "step 400\n",
      "  pair_loss 960, non_pair_loss 3.47e+03\n",
      "  mu_pairs, mu_non_pairs = 3.25, 2.85\n",
      "  error 4.43e+03, bhatt 0.0127\n",
      "step 410\n",
      "  pair_loss 459, non_pair_loss 2.63e+03\n",
      "  mu_pairs, mu_non_pairs = 2.3, 3.93\n",
      "  error 3.09e+03, bhatt 0.15\n",
      "step 420\n",
      "  pair_loss 374, non_pair_loss 2.82e+03\n",
      "  mu_pairs, mu_non_pairs = 1.9, 3.72\n",
      "  error 3.19e+03, bhatt 0.153\n",
      "step 430\n",
      "  pair_loss 466, non_pair_loss 2.72e+03\n",
      "  mu_pairs, mu_non_pairs = 2.26, 3.92\n",
      "  error 3.18e+03, bhatt 0.142\n",
      "step 440\n",
      "  pair_loss 348, non_pair_loss 2.98e+03\n",
      "  mu_pairs, mu_non_pairs = 1.97, 3.54\n",
      "  error 3.33e+03, bhatt 0.171\n",
      "step 450\n",
      "  pair_loss 536, non_pair_loss 2.99e+03\n",
      "  mu_pairs, mu_non_pairs = 2.56, 3.51\n",
      "  error 3.52e+03, bhatt 0.0867\n",
      "step 460\n",
      "  pair_loss 506, non_pair_loss 2.62e+03\n",
      "  mu_pairs, mu_non_pairs = 2.44, 4.02\n",
      "  error 3.13e+03, bhatt 0.144\n",
      "step 470\n",
      "  pair_loss 647, non_pair_loss 2.88e+03\n",
      "  mu_pairs, mu_non_pairs = 2.78, 3.55\n",
      "  error 3.53e+03, bhatt 0.0334\n",
      "step 480\n",
      "  pair_loss 438, non_pair_loss 2.09e+03\n",
      "  mu_pairs, mu_non_pairs = 2.23, 4.84\n",
      "  error 2.52e+03, bhatt 0.297\n",
      "step 490\n",
      "  pair_loss 965, non_pair_loss 2.88e+03\n",
      "  mu_pairs, mu_non_pairs = 3.22, 3.65\n",
      "  error 3.85e+03, bhatt 0.00493\n",
      "step 500\n",
      "  pair_loss 546, non_pair_loss 2.92e+03\n",
      "  mu_pairs, mu_non_pairs = 2.36, 3.64\n",
      "  error 3.47e+03, bhatt 0.0705\n",
      "step 510\n",
      "  pair_loss 305, non_pair_loss 2.23e+03\n",
      "  mu_pairs, mu_non_pairs = 1.71, 4.53\n",
      "  error 2.54e+03, bhatt 0.351\n"
     ]
    }
   ],
   "source": [
    "n_epoques = 512  # should prb be ~ 1e4-1e5\n",
    "\n",
    "batches = get_batches([X_A, X_B, Y], batch_size=128)\n",
    "batch = next(batches)\n",
    "\n",
    "train_error_log = []\n",
    "loss_1_log = []\n",
    "loss_2_log = []\n",
    "bhatt_log = []\n",
    "d_pairs_log = []\n",
    "d_non_pairs_log = []\n",
    "for i in range(n_epoques):  \n",
    "    batch = next(batches)\n",
    "    \n",
    "    if i%10 == 0:\n",
    "        print('step {}'.format(i))\n",
    "        \n",
    "        train_error = error_float.eval(feed_dict={x_A:batch[0], x_B:batch[1], y_: batch[2], keep_prob: 1.0})\n",
    "        train_error_log.append(train_error)\n",
    "        loss_1 = pair_loss.eval(feed_dict={x_A:batch[0], x_B:batch[1], y_: batch[2], keep_prob: 1.0})\n",
    "        loss_2 = non_pair_loss.eval(feed_dict={x_A:batch[0], x_B:batch[1], y_: batch[2], keep_prob: 1.0})\n",
    "        loss_1_log.append(loss_1)\n",
    "        loss_2_log.append(loss_2)\n",
    "        print('  pair_loss %.3g, non_pair_loss %.3g' % (loss_1, loss_2))\n",
    "        \n",
    "        squared_dist = squared_error.eval(feed_dict={x_A:batch[0], x_B:batch[1], y_: batch[2], keep_prob: 1.0})\n",
    "        bhatt, d_pairs, d_non_pairs = approx_bhattacharyya(squared_dist, batch[2])\n",
    "        bhatt_log.append(bhatt)\n",
    "        d_pairs_log.append(d_pairs)\n",
    "        d_non_pairs_log.append(d_non_pairs)\n",
    "        print('  error %.3g, bhatt %.3g' % (train_error, bhatt))\n",
    "\n",
    "    train_step.run(feed_dict={x_A:batch[0], x_B:batch[1], y_: batch[2], keep_prob: 0.5})\n",
    "    \n",
    "last_labels = batch[2]"
   ]
  },
  {
   "cell_type": "code",
   "execution_count": 73,
   "metadata": {
    "collapsed": false
   },
   "outputs": [
    {
     "data": {
      "image/png": "[encoded data removed]",
      "text/plain": [
       "<matplotlib.figure.Figure at 0x12dc96b90>"
      ]
     },
     "metadata": {},
     "output_type": "display_data"
    }
   ],
   "source": [
    "plt.figure(figsize=(10,10))\n",
    "plt.subplot(311)\n",
    "plt.plot(train_error_log);\n",
    "plt.plot(loss_1_log, color='g');\n",
    "plt.plot(loss_2_log, color='r');\n",
    "plt.title('loss function and pairs vs non-pairs components');\n",
    "plt.subplot(312)\n",
    "plt.plot(d_pairs_log, color='g');\n",
    "plt.plot(d_non_pairs_log, color='r');\n",
    "plt.title('average distance, pairs vs non-pairs');\n",
    "plt.subplot(313)\n",
    "plt.plot(bhatt_log);\n",
    "plt.title('bhattacharyya distance');"
   ]
  },
  {
   "cell_type": "code",
   "execution_count": 74,
   "metadata": {
    "collapsed": false
   },
   "outputs": [
    {
     "name": "stdout",
     "output_type": "stream",
     "text": [
      "2538.67056274 2538.67\n"
     ]
    }
   ],
   "source": [
    "pair_dists = np.sqrt(squared_dist[np.where(last_labels==1)])\n",
    "non_pair_dists = np.sqrt(squared_dist[np.where(last_labels==0)])\n",
    "\n",
    "loss_reconstruct = np.sum(pair_dists**2) + alpha * np.sum(np.max([np.zeros_like(non_pair_dists), m - non_pair_dists], axis=0)**2)\n",
    "print(loss_reconstruct, train_error_log[-1])"
   ]
  },
  {
   "cell_type": "code",
   "execution_count": 75,
   "metadata": {
    "collapsed": false
   },
   "outputs": [
    {
     "name": "stdout",
     "output_type": "stream",
     "text": [
      "2892.72015381\n"
     ]
    }
   ],
   "source": [
    "L1 = pair_loss.eval(feed_dict={x_A:batch[0], x_B:batch[1], y_:batch[2], keep_prob: 1.0})\n",
    "L2 = non_pair_loss.eval(feed_dict={x_A:batch[0], x_B:batch[1], y_:batch[2], keep_prob: 1.0})\n",
    "print(L1 + alpha*L2)"
   ]
  },
  {
   "cell_type": "code",
   "execution_count": 76,
   "metadata": {
    "collapsed": false,
    "scrolled": true
   },
   "outputs": [
    {
     "data": {
      "image/png": "[encoded data removed]",
      "text/plain": [
       "<matplotlib.figure.Figure at 0x111c39550>"
      ]
     },
     "metadata": {},
     "output_type": "display_data"
    }
   ],
   "source": [
    "plt.boxplot([non_pair_dists, pair_dists]);"
   ]
  },
  {
   "cell_type": "markdown",
   "metadata": {},
   "source": [
    "### Test"
   ]
  },
  {
   "cell_type": "code",
   "execution_count": 77,
   "metadata": {
    "collapsed": false
   },
   "outputs": [
    {
     "name": "stdout",
     "output_type": "stream",
     "text": [
      "Preloading chroma...\n",
      "Collecting test dataset...\n",
      "(1266, 512, 12) (1266, 512, 12) (1266,)\n"
     ]
    }
   ],
   "source": [
    "# subset\n",
    "test_subset = {uri: test_cliques[uri] for uri in test_cliques.keys()[:128]}\n",
    "\n",
    "print('Preloading chroma...')\n",
    "test_uris = util.uris_from_clique_dict(test_subset)\n",
    "chroma_dict_T = SHS_data.preload_chroma(test_uris)\n",
    "\n",
    "print('Collecting test dataset...')\n",
    "X_A_T, X_B_T, is_cover_T, test_pair_uris_T = paired_data.dataset_of_pairs(test_subset, chroma_dict_T,\n",
    "                                                             n_patches=n_patches, patch_len=patch_len)\n",
    "print(X_A_T.shape, X_B_T.shape, is_cover_T.shape)\n",
    "\n",
    "Y_T = is_cover_T.astype(float)"
   ]
  },
  {
   "cell_type": "code",
   "execution_count": 85,
   "metadata": {
    "collapsed": false
   },
   "outputs": [
    {
     "name": "stdout",
     "output_type": "stream",
     "text": [
      "  mu_pairs, mu_non_pairs = 1.5, 1.86\n",
      "bhatt = (0.052795110904425173, 1.5008105, 1.8570601)\n"
     ]
    },
    {
     "data": {
      "image/png": "[encoded data removed]",
      "text/plain": [
       "<matplotlib.figure.Figure at 0x12c249510>"
      ]
     },
     "metadata": {},
     "output_type": "display_data"
    }
   ],
   "source": [
    "test_squared_dists = squared_error.eval(feed_dict={x_A:X_A_T, x_B:X_B_T, keep_prob: 1.0})\n",
    "test_squared_dists = np.sum(test_squared_dists, axis=1)\n",
    "\n",
    "test_pair_dists = np.sqrt(test_squared_dists[np.where(Y_T==1)[0]])\n",
    "test_non_pair_dists = np.sqrt(test_squared_dists[np.where(Y_T==0)[0]])\n",
    "\n",
    "bins = np.arange(0,10,0.4)\n",
    "plt.figure()\n",
    "plt.hist(test_non_pair_dists, bins=bins, alpha=0.5);\n",
    "plt.hist(test_pair_dists, bins=bins, color='r', alpha=0.5);\n",
    "\n",
    "print('bhatt =', approx_bhattacharyya(np.sqrt(test_squared_dists), Y_T))"
   ]
  },
  {
   "cell_type": "code",
   "execution_count": null,
   "metadata": {
    "collapsed": true
   },
   "outputs": [],
   "source": []
  }
 ],
 "metadata": {
  "kernelspec": {
   "display_name": "Python 2",
   "language": "python",
   "name": "python2"
  },
  "language_info": {
   "codemirror_mode": {
    "name": "ipython",
    "version": 2
   },
   "file_extension": ".py",
   "mimetype": "text/x-python",
   "name": "python",
   "nbconvert_exporter": "python",
   "pygments_lexer": "ipython2",
   "version": "2.7.11"
  }
 },
 "nbformat": 4,
 "nbformat_minor": 0
}
