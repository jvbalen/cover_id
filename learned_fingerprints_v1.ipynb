{
 "cells": [
  {
   "cell_type": "code",
   "execution_count": 1,
   "metadata": {
    "collapsed": true
   },
   "outputs": [],
   "source": [
    "%matplotlib inline\n",
    "\n",
    "from __future__ import division, print_function\n",
    "\n",
    "import numpy as np\n",
    "import matplotlib.pyplot as plt\n",
    "import tensorflow as tf\n",
    "\n",
    "import SHS_data\n",
    "import util\n",
    "import paired_data\n",
    "\n",
    "reload(paired_data);"
   ]
  },
  {
   "cell_type": "markdown",
   "metadata": {},
   "source": [
    "## Learning cover song fingerprints\n",
    "\n",
    "### Load some data"
   ]
  },
  {
   "cell_type": "code",
   "execution_count": 2,
   "metadata": {
    "collapsed": false
   },
   "outputs": [
    {
     "name": "stdout",
     "output_type": "stream",
     "text": [
      "Preloading chroma...\n",
      "Collecting training dataset...\n",
      "(32436, 512, 12) (32436, 512, 12) (32436, 1)\n"
     ]
    }
   ],
   "source": [
    "ratio = (50,20,30)\n",
    "clique_dict, _ = SHS_data.read_cliques()\n",
    "train_cliques, test_cliques, _ = util.split_train_test_validation(clique_dict, ratio=ratio)\n",
    "\n",
    "print('Preloading chroma...')\n",
    "train_uris = util.uris_from_clique_dict(train_cliques)\n",
    "chroma_dict = SHS_data.preload_chroma(train_uris)\n",
    "\n",
    "print('Collecting training dataset...')\n",
    "n_patches, patch_len = 8, 64\n",
    "X_A, X_B, is_cover, pair_uris = paired_data.dataset_of_pairs(train_cliques, chroma_dict,\n",
    "                                                             n_patches=n_patches, patch_len=patch_len)\n",
    "Y = is_cover.astype(float)\n",
    "Y = Y.reshape((-1,1))\n",
    "\n",
    "print(X_A.shape, X_B.shape, Y.shape)"
   ]
  },
  {
   "cell_type": "markdown",
   "metadata": {},
   "source": [
    "### Batch generators"
   ]
  },
  {
   "cell_type": "code",
   "execution_count": 3,
   "metadata": {
    "collapsed": false
   },
   "outputs": [],
   "source": [
    "def get_random_batch(cols, batch_size=50):\n",
    "    ind = np.random.randint(0, len(cols[-1]), batch_size)\n",
    "    return [col[ind] for col in cols]\n",
    "\n",
    "def get_batches(arrays, batch_size=50):\n",
    "    \"\"\"Batch generator, no shuffling.\n",
    "    \n",
    "    Args:\n",
    "        arrays (list): list of arrays. Arrays should have equal length\n",
    "        batch_size (int): number of examples per batch\n",
    "        \n",
    "    Yields:\n",
    "        list: list of batches of length batch_size\n",
    "        \n",
    "    Usage:\n",
    "    >>> batches = get_batches([X, Y], batch_size=50)\n",
    "    >>> x, y = batches.next()\n",
    "    \"\"\"\n",
    "    array_lengths = [len(array) for array in arrays]\n",
    "    n_examples = array_lengths[0]\n",
    "    if not np.all(np.array(array_lengths) == n_examples):\n",
    "        raise ValueError('Arrays must have the same length.')\n",
    "    start = 0\n",
    "    while True:\n",
    "        start = np.mod(start, n_examples)\n",
    "        stop = start + batch_size\n",
    "        batch = [np.take(array, range(start, stop), axis=0, mode='wrap') for array in arrays]\n",
    "        start = stop\n",
    "        yield batch\n",
    "        \n",
    "# # test\n",
    "# x = np.arange(100)\n",
    "# y = x + 1988\n",
    "# batches = get_batches([x, y], batch_size=7)\n",
    "# for i in range(20):\n",
    "#     print(next(batches))"
   ]
  },
  {
   "cell_type": "markdown",
   "metadata": {},
   "source": [
    "### Tensorflow shorthands"
   ]
  },
  {
   "cell_type": "code",
   "execution_count": 4,
   "metadata": {
    "collapsed": true
   },
   "outputs": [],
   "source": [
    "def weight_variable(shape):\n",
    "    initial = tf.truncated_normal(shape, stddev=0.1)\n",
    "    return tf.Variable(initial)\n",
    "\n",
    "def bias_variable(shape):\n",
    "    initial = tf.constant(0.1, shape=shape)\n",
    "    return tf.Variable(initial)"
   ]
  },
  {
   "cell_type": "code",
   "execution_count": 5,
   "metadata": {
    "collapsed": true
   },
   "outputs": [],
   "source": [
    "def conv_bins(x, W):\n",
    "    return tf.nn.conv2d(x, W, strides=[1, 1, 1, 1], padding='VALID')\n",
    "\n",
    "def conv_frames(x, W):\n",
    "    return tf.nn.conv2d(x, W, strides=[1, 1, 1, 1], padding='SAME')\n",
    "\n",
    "def max_pool_4x1(x):\n",
    "    return tf.nn.max_pool(x, ksize=[1, 4, 1, 1],\n",
    "                        strides=[1, 4, 1, 1], padding='SAME')\n",
    "\n",
    "def max_pool_8x1(x):\n",
    "    return tf.nn.max_pool(x, ksize=[1, 8, 1, 1],\n",
    "                        strides=[1, 8, 1, 1], padding='SAME')\n",
    "\n",
    "def max_pool_16x1(x):\n",
    "    return tf.nn.max_pool(x, ksize=[1, 16, 1, 1],\n",
    "                        strides=[1, 16, 1, 1], padding='SAME')"
   ]
  },
  {
   "cell_type": "markdown",
   "metadata": {},
   "source": [
    "### Network\n",
    "\n",
    "#### input"
   ]
  },
  {
   "cell_type": "code",
   "execution_count": 6,
   "metadata": {
    "collapsed": false
   },
   "outputs": [],
   "source": [
    "input_len = n_patches * patch_len\n",
    "\n",
    "x_A = tf.placeholder(\"float\", shape=[None, input_len, 12])\n",
    "x_B = tf.placeholder(\"float\", shape=[None, input_len, 12])\n",
    "y_ = tf.placeholder(\"float\", shape=[None, 1])\n",
    "\n",
    "x_image_A = tf.reshape(x_A, [-1, input_len, 12, 1])\n",
    "x_image_B = tf.reshape(x_B, [-1, input_len, 12, 1])"
   ]
  },
  {
   "cell_type": "markdown",
   "metadata": {},
   "source": [
    "#### conv layer 1"
   ]
  },
  {
   "cell_type": "code",
   "execution_count": 7,
   "metadata": {
    "collapsed": false
   },
   "outputs": [],
   "source": [
    "W_conv1 = weight_variable([1, 12, 1, 32])\n",
    "b_conv1 = bias_variable([32])\n",
    "\n",
    "h_conv1_A = tf.nn.relu(conv_bins(x_image_A, W_conv1) + b_conv1)\n",
    "h_conv1_B = tf.nn.relu(conv_bins(x_image_B, W_conv1) + b_conv1)\n",
    "\n",
    "h_pool1_A = max_pool_4x1(h_conv1_A)\n",
    "h_pool1_B = max_pool_4x1(h_conv1_B)"
   ]
  },
  {
   "cell_type": "markdown",
   "metadata": {},
   "source": [
    "#### conv layer 2"
   ]
  },
  {
   "cell_type": "code",
   "execution_count": 8,
   "metadata": {
    "collapsed": false
   },
   "outputs": [],
   "source": [
    "W_conv2 = weight_variable([2, 1, 32, 64])\n",
    "b_conv2 = bias_variable([64])\n",
    "\n",
    "h_conv2_A = tf.nn.relu(conv_frames(h_pool1_A, W_conv2) + b_conv2)\n",
    "h_conv2_B = tf.nn.relu(conv_frames(h_pool1_B, W_conv2) + b_conv2)\n",
    "\n",
    "h_pool2_A = max_pool_16x1(h_conv2_A)\n",
    "h_pool2_B = max_pool_16x1(h_conv2_B)"
   ]
  },
  {
   "cell_type": "markdown",
   "metadata": {},
   "source": [
    "#### fully connected layer"
   ]
  },
  {
   "cell_type": "code",
   "execution_count": 9,
   "metadata": {
    "collapsed": false
   },
   "outputs": [],
   "source": [
    "keep_prob = tf.placeholder(\"float\")\n",
    "\n",
    "h_pool2_A_flat = tf.reshape(h_pool2_A, [-1, 8*64])  # flatten images first\n",
    "h_pool2_B_flat = tf.reshape(h_pool2_B, [-1, 8*64])"
   ]
  },
  {
   "cell_type": "markdown",
   "metadata": {},
   "source": [
    "#### arch A: no fc layer"
   ]
  },
  {
   "cell_type": "code",
   "execution_count": 10,
   "metadata": {
    "collapsed": true
   },
   "outputs": [],
   "source": [
    "h_tanh1_A = tf.nn.tanh(h_pool2_A_flat)\n",
    "h_tanh1_B = tf.nn.tanh(h_pool2_B_flat)"
   ]
  },
  {
   "cell_type": "markdown",
   "metadata": {},
   "source": [
    "#### arch B: 768 fc layer + tanh out"
   ]
  },
  {
   "cell_type": "code",
   "execution_count": 11,
   "metadata": {
    "collapsed": true
   },
   "outputs": [],
   "source": [
    "W_fc1 = weight_variable([8*64, 128])\n",
    "b_fc1 = bias_variable([128])\n",
    "\n",
    "h_fc1_A = tf.nn.relu(tf.matmul(h_pool2_A_flat, W_fc1) + b_fc1)\n",
    "h_fc1_B = tf.nn.relu(tf.matmul(h_pool2_B_flat, W_fc1) + b_fc1)\n",
    "\n",
    "h_tanh2_A = tf.nn.tanh(h_fc1_A)\n",
    "h_tanh2_B = tf.nn.tanh(h_fc1_B)"
   ]
  },
  {
   "cell_type": "markdown",
   "metadata": {},
   "source": [
    "#### arch C: extra fc layer"
   ]
  },
  {
   "cell_type": "code",
   "execution_count": 12,
   "metadata": {
    "collapsed": false
   },
   "outputs": [],
   "source": [
    "# h_norm1_A = tf.nn.l2_normalize(h_fc1_A_drop, dim=1)\n",
    "# h_norm1_B = tf.nn.l2_normalize(h_fc1_B_drop, dim=1)\n",
    "\n",
    "h_fc1_A_drop = tf.nn.dropout(h_fc1_A, keep_prob)\n",
    "h_fc1_B_drop = tf.nn.dropout(h_fc1_B, keep_prob)\n",
    "\n",
    "W_fc2 = weight_variable([128, 16])\n",
    "b_fc2 = bias_variable([16])\n",
    "\n",
    "h_tanh3_A = tf.nn.tanh(tf.matmul(h_fc1_A_drop, W_fc2) + b_fc2)\n",
    "h_tanh3_B = tf.nn.tanh(tf.matmul(h_fc1_B_drop, W_fc2) + b_fc2)"
   ]
  },
  {
   "cell_type": "markdown",
   "metadata": {},
   "source": [
    "### Objective function\n",
    "\n",
    "Minize pair distances while maximizing non-pair distances smaller than `m`\n",
    "\n",
    "Following [1].\n",
    "\n",
    "1. Raffel, C., & Ellis, D. P. W. (2015). Large-Scale Content-Based Matching of Midi and Audio Files. Proceedings of the 16th International Society for Music Information Retrieval Conference (ISMIR), 234–240."
   ]
  },
  {
   "cell_type": "code",
   "execution_count": 13,
   "metadata": {
    "collapsed": false
   },
   "outputs": [],
   "source": [
    "alpha = 1\n",
    "m = 10 # e.g., sqrt(256)\n",
    "\n",
    "squared_error = tf.reduce_sum(tf.square(h_tanh2_A - h_tanh2_B), reduction_indices=1, keep_dims=True)\n",
    "pair_loss = tf.reduce_sum(y_ * squared_error)\n",
    "non_pair_loss = tf.reduce_sum((1 - y_) * tf.square(tf.maximum(0.0, m - tf.sqrt(squared_error))))\n",
    "\n",
    "loss_function = pair_loss + alpha * non_pair_loss\n",
    "                 \n",
    "\n",
    "error_float = tf.cast(loss_function, \"float\")\n",
    "\n",
    "# optimizer\n",
    "# train_step = tf.train.AdamOptimizer(1e-4).minimize(loss_function)\n",
    "train_step = tf.train.RMSPropOptimizer(1e-4, decay=0.8).minimize(loss_function)"
   ]
  },
  {
   "cell_type": "markdown",
   "metadata": {},
   "source": [
    "#### Bhattacharyya distance"
   ]
  },
  {
   "cell_type": "code",
   "execution_count": 14,
   "metadata": {
    "collapsed": false
   },
   "outputs": [],
   "source": [
    "def approx_bhattacharyya(squared_dists, is_cover):\n",
    "    \"\"\"Approximate bhattacharyya distance between cover and non-cover distances.\n",
    "    \n",
    "    Similar to Mahalanobis distance, but for distributions with different variances.\n",
    "    Assumes normality, hence approximate (distances are bound by 0).\n",
    "    \"\"\"\n",
    "    pair_dists = np.sqrt(squared_dists[np.where(is_cover==1)])\n",
    "    non_pair_dists = np.sqrt(squared_dists[np.where(is_cover==0)])\n",
    "    \n",
    "    mu_pairs, sigma2_pairs = np.mean(pair_dists), np.var(pair_dists)\n",
    "    mu_non_pairs, sigma2_non_pairs = np.mean(non_pair_dists), np.var(non_pair_dists)\n",
    "    \n",
    "    print('  mu_pairs, mu_non_pairs = %.3g, %.3g' % (mu_pairs, mu_non_pairs))\n",
    "#     print('  sigma2_pairs, sigma2_non_pairs = %.3g, %.3g' % (sigma2_pairs, sigma2_non_pairs))\n",
    "\n",
    "    bhatt = (0.25 * np.log(0.25 * (sigma2_pairs/sigma2_non_pairs + sigma2_non_pairs/sigma2_pairs + 2)) +\n",
    "             0.25 * (mu_pairs - mu_non_pairs)**2 / (sigma2_pairs + sigma2_non_pairs))\n",
    "    return bhatt, mu_pairs, mu_non_pairs"
   ]
  },
  {
   "cell_type": "markdown",
   "metadata": {},
   "source": [
    "### Training"
   ]
  },
  {
   "cell_type": "code",
   "execution_count": 15,
   "metadata": {
    "collapsed": false
   },
   "outputs": [],
   "source": [
    "sess = tf.InteractiveSession()\n",
    "sess.run(tf.initialize_all_variables())"
   ]
  },
  {
   "cell_type": "code",
   "execution_count": 16,
   "metadata": {
    "collapsed": false
   },
   "outputs": [
    {
     "name": "stdout",
     "output_type": "stream",
     "text": [
      "step 0\n",
      "  pair_loss 16.9, non_pair_loss 5.68e+03\n",
      "  mu_pairs, mu_non_pairs = 0.509, 0.581\n",
      "  error 5.69e+03, bhatt 0.101\n",
      "step 10\n",
      "  pair_loss 19.7, non_pair_loss 5.63e+03\n",
      "  mu_pairs, mu_non_pairs = 0.549, 0.624\n",
      "  error 5.65e+03, bhatt 0.0872\n",
      "step 20\n",
      "  pair_loss 25.6, non_pair_loss 5.52e+03\n",
      "  mu_pairs, mu_non_pairs = 0.62, 0.716\n",
      "  error 5.54e+03, bhatt 0.0705\n",
      "step 30\n",
      "  pair_loss 37.2, non_pair_loss 5.45e+03\n",
      "  mu_pairs, mu_non_pairs = 0.752, 0.769\n",
      "  error 5.49e+03, bhatt 0.00216\n",
      "step 40\n",
      "  pair_loss 34.6, non_pair_loss 5.4e+03\n",
      "  mu_pairs, mu_non_pairs = 0.726, 0.813\n",
      "  error 5.44e+03, bhatt 0.0755\n",
      "step 50\n",
      "  pair_loss 55.4, non_pair_loss 5.24e+03\n",
      "  mu_pairs, mu_non_pairs = 0.911, 0.955\n",
      "  error 5.29e+03, bhatt 0.0125\n",
      "step 60\n",
      "  pair_loss 43.2, non_pair_loss 5.22e+03\n",
      "  mu_pairs, mu_non_pairs = 0.811, 0.976\n",
      "  error 5.26e+03, bhatt 0.184\n",
      "step 70\n",
      "  pair_loss 47.2, non_pair_loss 5.14e+03\n",
      "  mu_pairs, mu_non_pairs = 0.828, 1.04\n",
      "  error 5.19e+03, bhatt 0.1\n",
      "step 80\n",
      "  pair_loss 69.6, non_pair_loss 5.09e+03\n",
      "  mu_pairs, mu_non_pairs = 1.01, 1.08\n",
      "  error 5.16e+03, bhatt 0.0107\n",
      "step 90\n",
      "  pair_loss 79.3, non_pair_loss 4.99e+03\n",
      "  mu_pairs, mu_non_pairs = 1.09, 1.18\n",
      "  error 5.07e+03, bhatt 0.0658\n",
      "step 100\n",
      "  pair_loss 74.3, non_pair_loss 4.87e+03\n",
      "  mu_pairs, mu_non_pairs = 1.04, 1.29\n",
      "  error 4.94e+03, bhatt 0.0981\n",
      "step 110\n",
      "  pair_loss 86.4, non_pair_loss 4.84e+03\n",
      "  mu_pairs, mu_non_pairs = 1.13, 1.31\n",
      "  error 4.93e+03, bhatt 0.0878\n",
      "step 120\n",
      "  pair_loss 95.1, non_pair_loss 4.78e+03\n",
      "  mu_pairs, mu_non_pairs = 1.14, 1.37\n",
      "  error 4.87e+03, bhatt 0.0384\n",
      "step 130\n",
      "  pair_loss 87, non_pair_loss 4.6e+03\n",
      "  mu_pairs, mu_non_pairs = 1.09, 1.54\n",
      "  error 4.69e+03, bhatt 0.124\n",
      "step 140\n",
      "  pair_loss 123, non_pair_loss 4.6e+03\n",
      "  mu_pairs, mu_non_pairs = 1.32, 1.54\n",
      "  error 4.73e+03, bhatt 0.0441\n",
      "step 150\n",
      "  pair_loss 111, non_pair_loss 4.4e+03\n",
      "  mu_pairs, mu_non_pairs = 1.24, 1.73\n",
      "  error 4.51e+03, bhatt 0.137\n",
      "step 160\n",
      "  pair_loss 229, non_pair_loss 4.44e+03\n",
      "  mu_pairs, mu_non_pairs = 1.69, 1.7\n",
      "  error 4.67e+03, bhatt 0.0177\n",
      "step 170\n",
      "  pair_loss 90.9, non_pair_loss 4.01e+03\n",
      "  mu_pairs, mu_non_pairs = 1.16, 2.15\n",
      "  error 4.1e+03, bhatt 0.561\n",
      "step 180\n",
      "  pair_loss 169, non_pair_loss 4.33e+03\n",
      "  mu_pairs, mu_non_pairs = 1.52, 1.81\n",
      "  error 4.5e+03, bhatt 0.0458\n",
      "step 190\n",
      "  pair_loss 237, non_pair_loss 4.2e+03\n",
      "  mu_pairs, mu_non_pairs = 1.75, 1.95\n",
      "  error 4.44e+03, bhatt 0.0135\n",
      "step 200\n",
      "  pair_loss 238, non_pair_loss 3.94e+03\n",
      "  mu_pairs, mu_non_pairs = 1.68, 2.25\n",
      "  error 4.18e+03, bhatt 0.0529\n",
      "step 210\n",
      "  pair_loss 283, non_pair_loss 3.98e+03\n",
      "  mu_pairs, mu_non_pairs = 1.86, 2.19\n",
      "  error 4.26e+03, bhatt 0.0149\n",
      "step 220\n",
      "  pair_loss 130, non_pair_loss 3.82e+03\n",
      "  mu_pairs, mu_non_pairs = 1.34, 2.35\n",
      "  error 3.95e+03, bhatt 0.322\n",
      "step 230\n",
      "  pair_loss 292, non_pair_loss 3.86e+03\n",
      "  mu_pairs, mu_non_pairs = 1.92, 2.36\n",
      "  error 4.16e+03, bhatt 0.0541\n",
      "step 240\n",
      "  pair_loss 309, non_pair_loss 3.8e+03\n",
      "  mu_pairs, mu_non_pairs = 1.84, 2.4\n",
      "  error 4.11e+03, bhatt 0.0264\n",
      "step 250\n",
      "  pair_loss 312, non_pair_loss 3.46e+03\n",
      "  mu_pairs, mu_non_pairs = 1.92, 2.78\n",
      "  error 3.77e+03, bhatt 0.076\n",
      "step 260\n",
      "  pair_loss 301, non_pair_loss 3.7e+03\n",
      "  mu_pairs, mu_non_pairs = 1.88, 2.5\n",
      "  error 4e+03, bhatt 0.0423\n",
      "step 270\n",
      "  pair_loss 121, non_pair_loss 3.2e+03\n",
      "  mu_pairs, mu_non_pairs = 1.28, 3.16\n",
      "  error 3.32e+03, bhatt 0.588\n",
      "step 280\n",
      "  pair_loss 223, non_pair_loss 3.53e+03\n",
      "  mu_pairs, mu_non_pairs = 1.7, 2.67\n",
      "  error 3.75e+03, bhatt 0.161\n",
      "step 290\n",
      "  pair_loss 296, non_pair_loss 3.54e+03\n",
      "  mu_pairs, mu_non_pairs = 1.85, 2.72\n",
      "  error 3.84e+03, bhatt 0.0811\n",
      "step 300\n",
      "  pair_loss 337, non_pair_loss 3.26e+03\n",
      "  mu_pairs, mu_non_pairs = 2.15, 3.07\n",
      "  error 3.6e+03, bhatt 0.189\n",
      "step 310\n",
      "  pair_loss 567, non_pair_loss 3.41e+03\n",
      "  mu_pairs, mu_non_pairs = 2.61, 2.86\n",
      "  error 3.98e+03, bhatt 0.00529\n",
      "step 320\n",
      "  pair_loss 559, non_pair_loss 2.91e+03\n",
      "  mu_pairs, mu_non_pairs = 2.56, 3.49\n",
      "  error 3.47e+03, bhatt 0.0491\n",
      "step 330\n",
      "  pair_loss 321, non_pair_loss 2.91e+03\n",
      "  mu_pairs, mu_non_pairs = 1.89, 3.57\n",
      "  error 3.23e+03, bhatt 0.193\n",
      "step 340\n",
      "  pair_loss 630, non_pair_loss 3.39e+03\n",
      "  mu_pairs, mu_non_pairs = 2.64, 2.9\n",
      "  error 4.02e+03, bhatt 0.00367\n",
      "step 350\n",
      "  pair_loss 447, non_pair_loss 3.18e+03\n",
      "  mu_pairs, mu_non_pairs = 2.08, 3.25\n",
      "  error 3.63e+03, bhatt 0.063\n",
      "step 360\n",
      "  pair_loss 337, non_pair_loss 3.16e+03\n",
      "  mu_pairs, mu_non_pairs = 1.99, 3.17\n",
      "  error 3.5e+03, bhatt 0.122\n",
      "step 370\n",
      "  pair_loss 491, non_pair_loss 3.01e+03\n",
      "  mu_pairs, mu_non_pairs = 2.45, 3.41\n",
      "  error 3.5e+03, bhatt 0.0796\n",
      "step 380\n",
      "  pair_loss 457, non_pair_loss 3.11e+03\n",
      "  mu_pairs, mu_non_pairs = 2.36, 3.29\n",
      "  error 3.57e+03, bhatt 0.0808\n",
      "step 390\n",
      "  pair_loss 928, non_pair_loss 2.76e+03\n",
      "  mu_pairs, mu_non_pairs = 3.14, 3.73\n",
      "  error 3.68e+03, bhatt 0.0134\n",
      "step 400\n",
      "  pair_loss 975, non_pair_loss 3.08e+03\n",
      "  mu_pairs, mu_non_pairs = 3.39, 3.4\n",
      "  error 4.06e+03, bhatt 0.00237\n",
      "step 410\n",
      "  pair_loss 421, non_pair_loss 2.88e+03\n",
      "  mu_pairs, mu_non_pairs = 2.14, 3.65\n",
      "  error 3.3e+03, bhatt 0.129\n",
      "step 420\n",
      "  pair_loss 406, non_pair_loss 2.77e+03\n",
      "  mu_pairs, mu_non_pairs = 1.97, 3.85\n",
      "  error 3.17e+03, bhatt 0.149\n",
      "step 430\n",
      "  pair_loss 558, non_pair_loss 2.92e+03\n",
      "  mu_pairs, mu_non_pairs = 2.27, 3.62\n",
      "  error 3.47e+03, bhatt 0.0606\n",
      "step 440\n",
      "  pair_loss 360, non_pair_loss 2.74e+03\n",
      "  mu_pairs, mu_non_pairs = 1.96, 3.86\n",
      "  error 3.1e+03, bhatt 0.199\n",
      "step 450\n",
      "  pair_loss 475, non_pair_loss 2.8e+03\n",
      "  mu_pairs, mu_non_pairs = 2.28, 3.81\n",
      "  error 3.28e+03, bhatt 0.124\n",
      "step 460\n",
      "  pair_loss 588, non_pair_loss 2.84e+03\n",
      "  mu_pairs, mu_non_pairs = 2.55, 3.65\n",
      "  error 3.43e+03, bhatt 0.0544\n",
      "step 470\n",
      "  pair_loss 722, non_pair_loss 2.51e+03\n",
      "  mu_pairs, mu_non_pairs = 2.84, 4.1\n",
      "  error 3.24e+03, bhatt 0.0587\n",
      "step 480\n",
      "  pair_loss 237, non_pair_loss 2.93e+03\n",
      "  mu_pairs, mu_non_pairs = 1.68, 3.67\n",
      "  error 3.16e+03, bhatt 0.342\n",
      "step 490\n",
      "  pair_loss 1.07e+03, non_pair_loss 2.88e+03\n",
      "  mu_pairs, mu_non_pairs = 3.43, 3.7\n",
      "  error 3.94e+03, bhatt 0.00201\n",
      "step 500\n",
      "  pair_loss 515, non_pair_loss 2.57e+03\n",
      "  mu_pairs, mu_non_pairs = 2.25, 4.16\n",
      "  error 3.09e+03, bhatt 0.131\n",
      "step 510\n",
      "  pair_loss 282, non_pair_loss 2.08e+03\n",
      "  mu_pairs, mu_non_pairs = 1.58, 4.89\n",
      "  error 2.36e+03, bhatt 0.416\n"
     ]
    }
   ],
   "source": [
    "n_epoques = 512  # should prb be ~ 1e4-1e5\n",
    "\n",
    "batches = get_batches([X_A, X_B, Y], batch_size=128)\n",
    "batch = next(batches)\n",
    "\n",
    "train_error_log = []\n",
    "loss_1_log = []\n",
    "loss_2_log = []\n",
    "bhatt_log = []\n",
    "d_pairs_log = []\n",
    "d_non_pairs_log = []\n",
    "for i in range(n_epoques):  \n",
    "    batch = next(batches)\n",
    "    \n",
    "    if i%10 == 0:\n",
    "        print('step {}'.format(i))\n",
    "        \n",
    "        train_error = error_float.eval(feed_dict={x_A:batch[0], x_B:batch[1], y_: batch[2], keep_prob: 1.0})\n",
    "        train_error_log.append(train_error)\n",
    "        loss_1 = pair_loss.eval(feed_dict={x_A:batch[0], x_B:batch[1], y_: batch[2], keep_prob: 1.0})\n",
    "        loss_2 = non_pair_loss.eval(feed_dict={x_A:batch[0], x_B:batch[1], y_: batch[2], keep_prob: 1.0})\n",
    "        loss_1_log.append(loss_1)\n",
    "        loss_2_log.append(loss_2)\n",
    "        print('  pair_loss %.3g, non_pair_loss %.3g' % (loss_1, loss_2))\n",
    "        \n",
    "        squared_dist = squared_error.eval(feed_dict={x_A:batch[0], x_B:batch[1], y_: batch[2], keep_prob: 1.0})\n",
    "        bhatt, d_pairs, d_non_pairs = approx_bhattacharyya(squared_dist, batch[2])\n",
    "        bhatt_log.append(bhatt)\n",
    "        d_pairs_log.append(d_pairs)\n",
    "        d_non_pairs_log.append(d_non_pairs)\n",
    "        print('  error %.3g, bhatt %.3g' % (train_error, bhatt))\n",
    "\n",
    "    train_step.run(feed_dict={x_A:batch[0], x_B:batch[1], y_: batch[2], keep_prob: 0.5})\n",
    "    \n",
    "last_labels = batch[2]"
   ]
  },
  {
   "cell_type": "code",
   "execution_count": 17,
   "metadata": {
    "collapsed": false
   },
   "outputs": [
    {
     "data": {
      "image/png": "[encoded data removed]",
      "text/plain": [
       "<matplotlib.figure.Figure at 0x1c98b5c50>"
      ]
     },
     "metadata": {},
     "output_type": "display_data"
    }
   ],
   "source": [
    "plt.figure(figsize=(10,10))\n",
    "plt.subplot(311)\n",
    "plt.plot(train_error_log);\n",
    "plt.plot(loss_1_log, color='g');\n",
    "plt.plot(loss_2_log, color='r');\n",
    "plt.title('loss function and pairs vs non-pairs components');\n",
    "plt.subplot(312)\n",
    "plt.plot(d_pairs_log, color='g');\n",
    "plt.plot(d_non_pairs_log, color='r');\n",
    "plt.title('average distance, pairs vs non-pairs');\n",
    "plt.subplot(313)\n",
    "plt.plot(bhatt_log);\n",
    "plt.title('bhattacharyya distance');"
   ]
  },
  {
   "cell_type": "code",
   "execution_count": 18,
   "metadata": {
    "collapsed": false
   },
   "outputs": [
    {
     "name": "stdout",
     "output_type": "stream",
     "text": [
      "2364.74829102 2364.75\n"
     ]
    }
   ],
   "source": [
    "pair_dists = np.sqrt(squared_dist[np.where(last_labels==1)])\n",
    "non_pair_dists = np.sqrt(squared_dist[np.where(last_labels==0)])\n",
    "\n",
    "loss_reconstruct = np.sum(pair_dists**2) + alpha * np.sum(np.max([np.zeros_like(non_pair_dists), m - non_pair_dists], axis=0)**2)\n",
    "print(loss_reconstruct, train_error_log[-1])"
   ]
  },
  {
   "cell_type": "code",
   "execution_count": 19,
   "metadata": {
    "collapsed": false
   },
   "outputs": [
    {
     "name": "stdout",
     "output_type": "stream",
     "text": [
      "3272.45227051\n"
     ]
    }
   ],
   "source": [
    "L1 = pair_loss.eval(feed_dict={x_A:batch[0], x_B:batch[1], y_:batch[2], keep_prob: 1.0})\n",
    "L2 = non_pair_loss.eval(feed_dict={x_A:batch[0], x_B:batch[1], y_:batch[2], keep_prob: 1.0})\n",
    "print(L1 + alpha*L2)"
   ]
  },
  {
   "cell_type": "code",
   "execution_count": 20,
   "metadata": {
    "collapsed": false,
    "scrolled": true
   },
   "outputs": [
    {
     "data": {
      "image/png": "[encoded data removed]",
      "text/plain": [
       "<matplotlib.figure.Figure at 0x129d84a10>"
      ]
     },
     "metadata": {},
     "output_type": "display_data"
    }
   ],
   "source": [
    "plt.boxplot([non_pair_dists, pair_dists]);"
   ]
  },
  {
   "cell_type": "markdown",
   "metadata": {},
   "source": [
    "### Test"
   ]
  },
  {
   "cell_type": "code",
   "execution_count": 21,
   "metadata": {
    "collapsed": false
   },
   "outputs": [
    {
     "name": "stdout",
     "output_type": "stream",
     "text": [
      "Preloading chroma...\n",
      "Collecting test dataset...\n",
      "(1266, 512, 12) (1266, 512, 12) (1266,)\n"
     ]
    }
   ],
   "source": [
    "# subset\n",
    "test_subset = {uri: test_cliques[uri] for uri in test_cliques.keys()[:128]}\n",
    "\n",
    "print('Preloading chroma...')\n",
    "test_uris = util.uris_from_clique_dict(test_subset)\n",
    "chroma_dict_T = SHS_data.preload_chroma(test_uris)\n",
    "\n",
    "print('Collecting test dataset...')\n",
    "X_A_T, X_B_T, is_cover_T, test_pair_uris_T = paired_data.dataset_of_pairs(test_subset, chroma_dict_T,\n",
    "                                                             n_patches=n_patches, patch_len=patch_len)\n",
    "print(X_A_T.shape, X_B_T.shape, is_cover_T.shape)\n",
    "\n",
    "Y_T = is_cover_T.astype(float)"
   ]
  },
  {
   "cell_type": "code",
   "execution_count": 22,
   "metadata": {
    "collapsed": false
   },
   "outputs": [
    {
     "name": "stdout",
     "output_type": "stream",
     "text": [
      "  mu_pairs, mu_non_pairs = 1.44, 1.82\n",
      "bhatt = (0.055340519846046647, 1.436307, 1.8186466)\n"
     ]
    },
    {
     "data": {
      "image/png": "[encoded data removed]",
      "text/plain": [
       "<matplotlib.figure.Figure at 0x11c3126d0>"
      ]
     },
     "metadata": {},
     "output_type": "display_data"
    }
   ],
   "source": [
    "test_squared_dists = squared_error.eval(feed_dict={x_A:X_A_T, x_B:X_B_T, keep_prob: 1.0})\n",
    "test_squared_dists = np.sum(test_squared_dists, axis=1)\n",
    "\n",
    "test_pair_dists = np.sqrt(test_squared_dists[np.where(Y_T==1)[0]])\n",
    "test_non_pair_dists = np.sqrt(test_squared_dists[np.where(Y_T==0)[0]])\n",
    "\n",
    "bins = np.arange(0,10,0.4)\n",
    "plt.figure()\n",
    "plt.hist(test_non_pair_dists, bins=bins, alpha=0.5);\n",
    "plt.hist(test_pair_dists, bins=bins, color='r', alpha=0.5);\n",
    "\n",
    "print('bhatt =', approx_bhattacharyya(np.sqrt(test_squared_dists), Y_T))"
   ]
  },
  {
   "cell_type": "code",
   "execution_count": null,
   "metadata": {
    "collapsed": true
   },
   "outputs": [],
   "source": []
  }
 ],
 "metadata": {
  "kernelspec": {
   "display_name": "Python 2",
   "language": "python",
   "name": "python2"
  },
  "language_info": {
   "codemirror_mode": {
    "name": "ipython",
    "version": 2
   },
   "file_extension": ".py",
   "mimetype": "text/x-python",
   "name": "python",
   "nbconvert_exporter": "python",
   "pygments_lexer": "ipython2",
   "version": "2.7.11"
  }
 },
 "nbformat": 4,
 "nbformat_minor": 0
}
