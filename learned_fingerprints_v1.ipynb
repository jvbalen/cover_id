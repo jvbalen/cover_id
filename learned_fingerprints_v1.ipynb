{
 "cells": [
  {
   "cell_type": "code",
   "execution_count": 1,
   "metadata": {
    "collapsed": true
   },
   "outputs": [],
   "source": [
    "%matplotlib inline\n",
    "\n",
    "from __future__ import division, print_function\n",
    "\n",
    "import numpy as np\n",
    "import matplotlib.pyplot as plt\n",
    "import tensorflow as tf\n",
    "\n",
    "import SHS_data\n",
    "import util\n",
    "import paired_data\n",
    "\n",
    "reload(paired_data);"
   ]
  },
  {
   "cell_type": "markdown",
   "metadata": {},
   "source": [
    "## Learning cover song fingerprints\n",
    "\n",
    "### Load some data"
   ]
  },
  {
   "cell_type": "code",
   "execution_count": 2,
   "metadata": {
    "collapsed": false
   },
   "outputs": [
    {
     "name": "stdout",
     "output_type": "stream",
     "text": [
      "Preloading chroma...\n",
      "Collecting training dataset...\n",
      "(32436, 512, 12) (32436, 512, 12) (32436, 1)\n"
     ]
    }
   ],
   "source": [
    "ratio = (50,20,30)\n",
    "clique_dict, _ = SHS_data.read_cliques()\n",
    "train_cliques, test_cliques, _ = util.split_train_test_validation(clique_dict, ratio=ratio)\n",
    "\n",
    "print('Preloading chroma...')\n",
    "train_uris = util.uris_from_clique_dict(train_cliques)\n",
    "chroma_dict = SHS_data.preload_chroma(train_uris)\n",
    "\n",
    "print('Collecting training dataset...')\n",
    "n_patches, patch_len = 8, 64\n",
    "X_A, X_B, is_cover, pair_uris = paired_data.dataset_of_pairs(train_cliques, chroma_dict,\n",
    "                                                             n_patches=n_patches, patch_len=patch_len)\n",
    "Y = is_cover.astype(float)\n",
    "Y = Y.reshape((-1,1))\n",
    "\n",
    "print(X_A.shape, X_B.shape, Y.shape)"
   ]
  },
  {
   "cell_type": "markdown",
   "metadata": {},
   "source": [
    "### Batch generators"
   ]
  },
  {
   "cell_type": "code",
   "execution_count": 3,
   "metadata": {
    "collapsed": false
   },
   "outputs": [],
   "source": [
    "def get_random_batch(cols, batch_size=50):\n",
    "    ind = np.random.randint(0, len(cols[-1]), batch_size)\n",
    "    return [col[ind] for col in cols]\n",
    "\n",
    "def get_batches(arrays, batch_size=50):\n",
    "    \"\"\"Batch generator, no shuffling.\n",
    "    \n",
    "    Args:\n",
    "        arrays (list): list of arrays. Arrays should have equal length\n",
    "        batch_size (int): number of examples per batch\n",
    "        \n",
    "    Yields:\n",
    "        list: list of batches of length batch_size\n",
    "        \n",
    "    Usage:\n",
    "    >>> batches = get_batches([X, Y], batch_size=50)\n",
    "    >>> x, y = batches.next()\n",
    "    \"\"\"\n",
    "    array_lengths = [len(array) for array in arrays]\n",
    "    n_examples = array_lengths[0]\n",
    "    if not np.all(np.array(array_lengths) == n_examples):\n",
    "        raise ValueError('Arrays must have the same length.')\n",
    "    start = 0\n",
    "    while True:\n",
    "        start = np.mod(start, n_examples)\n",
    "        stop = start + batch_size\n",
    "        batch = [np.take(array, range(start, stop), axis=0, mode='wrap') for array in arrays]\n",
    "        start = stop\n",
    "        yield batch\n",
    "        \n",
    "# # test\n",
    "# x = np.arange(100)\n",
    "# y = x + 1988\n",
    "# batches = get_batches([x, y], batch_size=7)\n",
    "# for i in range(20):\n",
    "#     print(next(batches))"
   ]
  },
  {
   "cell_type": "markdown",
   "metadata": {},
   "source": [
    "### Tensorflow shorthands"
   ]
  },
  {
   "cell_type": "code",
   "execution_count": 33,
   "metadata": {
    "collapsed": true
   },
   "outputs": [],
   "source": [
    "def weight_variable(shape):\n",
    "    initial = tf.truncated_normal(shape, stddev=0.1)\n",
    "    return tf.Variable(initial)\n",
    "\n",
    "def bias_variable(shape):\n",
    "    initial = tf.constant(0.1, shape=shape)\n",
    "    return tf.Variable(initial)"
   ]
  },
  {
   "cell_type": "code",
   "execution_count": 34,
   "metadata": {
    "collapsed": true
   },
   "outputs": [],
   "source": [
    "def conv_bins(x, W):\n",
    "    return tf.nn.conv2d(x, W, strides=[1, 1, 1, 1], padding='VALID')\n",
    "\n",
    "def conv_frames(x, W):\n",
    "    return tf.nn.conv2d(x, W, strides=[1, 1, 1, 1], padding='SAME')\n",
    "\n",
    "def max_pool_4x1(x):\n",
    "    return tf.nn.max_pool(x, ksize=[1, 4, 1, 1],\n",
    "                        strides=[1, 4, 1, 1], padding='SAME')\n",
    "\n",
    "def max_pool_8x1(x):\n",
    "    return tf.nn.max_pool(x, ksize=[1, 8, 1, 1],\n",
    "                        strides=[1, 8, 1, 1], padding='SAME')\n",
    "\n",
    "def max_pool_16x1(x):\n",
    "    return tf.nn.max_pool(x, ksize=[1, 16, 1, 1],\n",
    "                        strides=[1, 16, 1, 1], padding='SAME')"
   ]
  },
  {
   "cell_type": "markdown",
   "metadata": {},
   "source": [
    "### Network\n",
    "\n",
    "#### input"
   ]
  },
  {
   "cell_type": "code",
   "execution_count": 35,
   "metadata": {
    "collapsed": false
   },
   "outputs": [],
   "source": [
    "input_len = n_patches * patch_len\n",
    "\n",
    "x_A = tf.placeholder(\"float\", shape=[None, input_len, 12])\n",
    "x_B = tf.placeholder(\"float\", shape=[None, input_len, 12])\n",
    "y_ = tf.placeholder(\"float\", shape=[None, 1])\n",
    "\n",
    "x_image_A = tf.reshape(x_A, [-1, input_len, 12, 1])\n",
    "x_image_B = tf.reshape(x_B, [-1, input_len, 12, 1])"
   ]
  },
  {
   "cell_type": "markdown",
   "metadata": {},
   "source": [
    "#### conv layer 1"
   ]
  },
  {
   "cell_type": "code",
   "execution_count": 36,
   "metadata": {
    "collapsed": false
   },
   "outputs": [],
   "source": [
    "W_conv1 = weight_variable([1, 12, 1, 32])\n",
    "b_conv1 = bias_variable([32])\n",
    "\n",
    "h_conv1_A = tf.nn.relu(conv_bins(x_image_A, W_conv1) + b_conv1)\n",
    "h_conv1_B = tf.nn.relu(conv_bins(x_image_B, W_conv1) + b_conv1)\n",
    "\n",
    "h_pool1_A = max_pool_4x1(h_conv1_A)\n",
    "h_pool1_B = max_pool_4x1(h_conv1_B)"
   ]
  },
  {
   "cell_type": "markdown",
   "metadata": {},
   "source": [
    "#### conv layer 2"
   ]
  },
  {
   "cell_type": "code",
   "execution_count": 37,
   "metadata": {
    "collapsed": false
   },
   "outputs": [],
   "source": [
    "W_conv2 = weight_variable([4, 1, 32, 64])\n",
    "b_conv2 = bias_variable([64])\n",
    "\n",
    "h_conv2_A = tf.nn.relu(conv_frames(h_pool1_A, W_conv2) + b_conv2)\n",
    "h_conv2_B = tf.nn.relu(conv_frames(h_pool1_B, W_conv2) + b_conv2)\n",
    "\n",
    "h_pool2_A = max_pool_16x1(h_conv2_A)\n",
    "h_pool2_B = max_pool_16x1(h_conv2_B)"
   ]
  },
  {
   "cell_type": "markdown",
   "metadata": {},
   "source": [
    "#### fully connected layer"
   ]
  },
  {
   "cell_type": "code",
   "execution_count": 38,
   "metadata": {
    "collapsed": false
   },
   "outputs": [],
   "source": [
    "keep_prob = tf.placeholder(\"float\")\n",
    "\n",
    "h_pool2_A_flat = tf.reshape(h_pool2_A, [-1, 8*64])  # flatten images first\n",
    "h_pool2_B_flat = tf.reshape(h_pool2_B, [-1, 8*64])"
   ]
  },
  {
   "cell_type": "markdown",
   "metadata": {},
   "source": [
    "#### arch A: no fc layer"
   ]
  },
  {
   "cell_type": "code",
   "execution_count": 39,
   "metadata": {
    "collapsed": true
   },
   "outputs": [],
   "source": [
    "h_tanh1_A = tf.nn.tanh(h_pool2_A_flat)\n",
    "h_tanh1_B = tf.nn.tanh(h_pool2_B_flat)"
   ]
  },
  {
   "cell_type": "markdown",
   "metadata": {},
   "source": [
    "#### arch B: 768 fc layer + tanh out"
   ]
  },
  {
   "cell_type": "code",
   "execution_count": 40,
   "metadata": {
    "collapsed": true
   },
   "outputs": [],
   "source": [
    "W_fc1 = weight_variable([8*64, 128])\n",
    "b_fc1 = bias_variable([128])\n",
    "\n",
    "h_fc1_A = tf.nn.relu(tf.matmul(h_pool2_A_flat, W_fc1) + b_fc1)\n",
    "h_fc1_B = tf.nn.relu(tf.matmul(h_pool2_B_flat, W_fc1) + b_fc1)\n",
    "\n",
    "h_tanh2_A = tf.nn.tanh(h_fc1_A)\n",
    "h_tanh2_B = tf.nn.tanh(h_fc1_B)"
   ]
  },
  {
   "cell_type": "markdown",
   "metadata": {},
   "source": [
    "#### arch C: extra fc layer"
   ]
  },
  {
   "cell_type": "code",
   "execution_count": 42,
   "metadata": {
    "collapsed": false
   },
   "outputs": [],
   "source": [
    "# h_norm1_A = tf.nn.l2_normalize(h_fc1_A_drop, dim=1)\n",
    "# h_norm1_B = tf.nn.l2_normalize(h_fc1_B_drop, dim=1)\n",
    "\n",
    "h_fc1_A_drop = tf.nn.dropout(h_fc1_A, keep_prob)\n",
    "h_fc1_B_drop = tf.nn.dropout(h_fc1_B, keep_prob)\n",
    "\n",
    "W_fc2 = weight_variable([128, 16])\n",
    "b_fc2 = bias_variable([16])\n",
    "\n",
    "h_tanh3_A = tf.nn.tanh(tf.matmul(h_fc1_A_drop, W_fc2) + b_fc2)\n",
    "h_tanh3_B = tf.nn.tanh(tf.matmul(h_fc1_B_drop, W_fc2) + b_fc2)"
   ]
  },
  {
   "cell_type": "markdown",
   "metadata": {},
   "source": [
    "### Objective function\n",
    "\n",
    "Minize pair distances while maximizing non-pair distances smaller than `m`\n",
    "\n",
    "Following [1].\n",
    "\n",
    "1. Raffel, C., & Ellis, D. P. W. (2015). Large-Scale Content-Based Matching of Midi and Audio Files. Proceedings of the 16th International Society for Music Information Retrieval Conference (ISMIR), 234–240."
   ]
  },
  {
   "cell_type": "code",
   "execution_count": 124,
   "metadata": {
    "collapsed": false
   },
   "outputs": [],
   "source": [
    "alpha = 1\n",
    "m = 10 # e.g., sqrt(256)\n",
    "\n",
    "squared_error = tf.reduce_sum(tf.square(h_tanh2_A - h_tanh2_B), reduction_indices=1, keep_dims=True)\n",
    "pair_loss = tf.reduce_sum(y_ * squared_error)\n",
    "non_pair_loss = tf.reduce_sum((1 - y_) * tf.square(tf.maximum(0.0, m - tf.sqrt(squared_error))))\n",
    "\n",
    "loss_function = pair_loss + alpha * non_pair_loss\n",
    "                 \n",
    "\n",
    "error_float = tf.cast(loss_function, \"float\")\n",
    "\n",
    "# optimizer\n",
    "train_step = tf.train.AdamOptimizer(1e-3).minimize(loss_function)\n",
    "# train_step = tf.train.RMSPropOptimizer(0.001, decay=0.8).minimize(loss_function)"
   ]
  },
  {
   "cell_type": "markdown",
   "metadata": {},
   "source": [
    "#### Bhattacharyya distance"
   ]
  },
  {
   "cell_type": "code",
   "execution_count": 125,
   "metadata": {
    "collapsed": false
   },
   "outputs": [],
   "source": [
    "def approx_bhattacharyya(squared_dists, is_cover):\n",
    "    \"\"\"Approximate bhattacharyya distance between cover and non-cover distances.\n",
    "    \n",
    "    Similar to Mahalanobis distance, but for distributions with different variances.\n",
    "    Assumes normality, hence approximate (distances are bound by 0).\n",
    "    \"\"\"\n",
    "    pair_dists = np.sqrt(squared_dists[np.where(is_cover==1)])\n",
    "    non_pair_dists = np.sqrt(squared_dists[np.where(is_cover==0)])\n",
    "    \n",
    "    mu_pairs, sigma2_pairs = np.mean(pair_dists), np.var(pair_dists)\n",
    "    mu_non_pairs, sigma2_non_pairs = np.mean(non_pair_dists), np.var(non_pair_dists)\n",
    "    \n",
    "    print('  mu_pairs, mu_non_pairs = %.3g, %.3g' % (mu_pairs, mu_non_pairs))\n",
    "#     print('  sigma2_pairs, sigma2_non_pairs = %.3g, %.3g' % (sigma2_pairs, sigma2_non_pairs))\n",
    "\n",
    "    bhatt = (0.25 * np.log(0.25 * (sigma2_pairs/sigma2_non_pairs + sigma2_non_pairs/sigma2_pairs + 2)) +\n",
    "             0.25 * (mu_pairs - mu_non_pairs)**2 / (sigma2_pairs + sigma2_non_pairs))\n",
    "    return bhatt, mu_pairs, mu_non_pairs"
   ]
  },
  {
   "cell_type": "markdown",
   "metadata": {},
   "source": [
    "### Training"
   ]
  },
  {
   "cell_type": "code",
   "execution_count": 126,
   "metadata": {
    "collapsed": false
   },
   "outputs": [
    {
     "name": "stderr",
     "output_type": "stream",
     "text": [
      "Exception AssertionError: AssertionError() in <bound method InteractiveSession.__del__ of <tensorflow.python.client.session.InteractiveSession object at 0x13080b3d0>> ignored\n"
     ]
    }
   ],
   "source": [
    "sess = tf.InteractiveSession()\n",
    "sess.run(tf.initialize_all_variables())"
   ]
  },
  {
   "cell_type": "code",
   "execution_count": 127,
   "metadata": {
    "collapsed": false
   },
   "outputs": [
    {
     "name": "stdout",
     "output_type": "stream",
     "text": [
      "step 0\n",
      "  pair_loss 18, non_pair_loss 5.63e+03\n",
      "  mu_pairs, mu_non_pairs = 0.528, 0.622\n",
      "  error 5.65e+03, bhatt 0.233\n",
      "step 10\n",
      "  pair_loss 57.8, non_pair_loss 5.02e+03\n",
      "  mu_pairs, mu_non_pairs = 0.919, 1.15\n",
      "  error 5.08e+03, bhatt 0.102\n",
      "step 20\n",
      "  pair_loss 151, non_pair_loss 4.31e+03\n",
      "  mu_pairs, mu_non_pairs = 1.4, 1.85\n",
      "  error 4.46e+03, bhatt 0.0736\n",
      "step 30\n",
      "  pair_loss 382, non_pair_loss 3.83e+03\n",
      "  mu_pairs, mu_non_pairs = 2.2, 2.34\n",
      "  error 4.21e+03, bhatt 0.0021\n",
      "step 40\n",
      "  pair_loss 503, non_pair_loss 3.23e+03\n",
      "  mu_pairs, mu_non_pairs = 2.55, 3.08\n",
      "  error 3.73e+03, bhatt 0.0442\n",
      "step 50\n",
      "  pair_loss 653, non_pair_loss 3.15e+03\n",
      "  mu_pairs, mu_non_pairs = 2.89, 3.17\n",
      "  error 3.8e+03, bhatt 0.0108\n",
      "step 60\n",
      "  pair_loss 418, non_pair_loss 3.36e+03\n",
      "  mu_pairs, mu_non_pairs = 2.24, 3.01\n",
      "  error 3.78e+03, bhatt 0.0763\n",
      "step 70\n",
      "  pair_loss 610, non_pair_loss 2.77e+03\n",
      "  mu_pairs, mu_non_pairs = 2.65, 3.79\n",
      "  error 3.38e+03, bhatt 0.0687\n",
      "step 80\n",
      "  pair_loss 948, non_pair_loss 2.54e+03\n",
      "  mu_pairs, mu_non_pairs = 3.44, 4.07\n",
      "  error 3.49e+03, bhatt 0.024\n",
      "step 90\n",
      "  pair_loss 1.03e+03, non_pair_loss 2.49e+03\n",
      "  mu_pairs, mu_non_pairs = 3.67, 4.08\n",
      "  error 3.52e+03, bhatt 0.0158\n",
      "step 100\n",
      "  pair_loss 505, non_pair_loss 2.41e+03\n",
      "  mu_pairs, mu_non_pairs = 2.53, 4.35\n",
      "  error 2.92e+03, bhatt 0.22\n",
      "step 110\n",
      "  pair_loss 898, non_pair_loss 2.76e+03\n",
      "  mu_pairs, mu_non_pairs = 3.49, 3.64\n",
      "  error 3.66e+03, bhatt 0.0105\n",
      "step 120\n",
      "  pair_loss 919, non_pair_loss 2.52e+03\n",
      "  mu_pairs, mu_non_pairs = 3.33, 4.01\n",
      "  error 3.44e+03, bhatt 0.0174\n",
      "step 130\n",
      "  pair_loss 803, non_pair_loss 2.53e+03\n",
      "  mu_pairs, mu_non_pairs = 2.95, 4.03\n",
      "  error 3.33e+03, bhatt 0.0382\n",
      "step 140\n",
      "  pair_loss 912, non_pair_loss 2.49e+03\n",
      "  mu_pairs, mu_non_pairs = 3.38, 4.02\n",
      "  error 3.4e+03, bhatt 0.0182\n",
      "step 150\n",
      "  pair_loss 650, non_pair_loss 2.25e+03\n",
      "  mu_pairs, mu_non_pairs = 2.93, 4.37\n",
      "  error 2.9e+03, bhatt 0.141\n",
      "step 160\n",
      "  pair_loss 1.38e+03, non_pair_loss 2.17e+03\n",
      "  mu_pairs, mu_non_pairs = 4.16, 4.47\n",
      "  error 3.54e+03, bhatt 0.00706\n",
      "step 170\n",
      "  pair_loss 457, non_pair_loss 2.1e+03\n",
      "  mu_pairs, mu_non_pairs = 2.52, 4.65\n",
      "  error 2.56e+03, bhatt 0.382\n",
      "step 180\n",
      "  pair_loss 844, non_pair_loss 2.17e+03\n",
      "  mu_pairs, mu_non_pairs = 3.34, 4.42\n",
      "  error 3.01e+03, bhatt 0.0667\n",
      "step 190\n",
      "  pair_loss 911, non_pair_loss 1.96e+03\n",
      "  mu_pairs, mu_non_pairs = 3.51, 4.89\n",
      "  error 2.87e+03, bhatt 0.117\n",
      "step 200\n",
      "  pair_loss 1.17e+03, non_pair_loss 2.15e+03\n",
      "  mu_pairs, mu_non_pairs = 3.68, 4.64\n",
      "  error 3.32e+03, bhatt 0.0242\n",
      "step 210\n",
      "  pair_loss 989, non_pair_loss 2.44e+03\n",
      "  mu_pairs, mu_non_pairs = 3.61, 4.1\n",
      "  error 3.43e+03, bhatt 0.0175\n",
      "step 220\n",
      "  pair_loss 572, non_pair_loss 2.55e+03\n",
      "  mu_pairs, mu_non_pairs = 2.79, 3.94\n",
      "  error 3.12e+03, bhatt 0.133\n",
      "step 230\n",
      "  pair_loss 919, non_pair_loss 2.02e+03\n",
      "  mu_pairs, mu_non_pairs = 3.52, 4.68\n",
      "  error 2.93e+03, bhatt 0.0792\n",
      "step 240\n",
      "  pair_loss 1e+03, non_pair_loss 2.05e+03\n",
      "  mu_pairs, mu_non_pairs = 3.61, 4.62\n",
      "  error 3.05e+03, bhatt 0.0465\n",
      "step 250\n",
      "  pair_loss 1.08e+03, non_pair_loss 1.97e+03\n",
      "  mu_pairs, mu_non_pairs = 3.8, 4.72\n",
      "  error 3.05e+03, bhatt 0.0412\n",
      "step 260\n",
      "  pair_loss 1.1e+03, non_pair_loss 2.02e+03\n",
      "  mu_pairs, mu_non_pairs = 3.81, 4.8\n",
      "  error 3.13e+03, bhatt 0.0493\n",
      "step 270\n",
      "  pair_loss 389, non_pair_loss 2.03e+03\n",
      "  mu_pairs, mu_non_pairs = 2.31, 4.93\n",
      "  error 2.42e+03, bhatt 0.493\n",
      "step 280\n",
      "  pair_loss 755, non_pair_loss 2.25e+03\n",
      "  mu_pairs, mu_non_pairs = 3.25, 4.26\n",
      "  error 3e+03, bhatt 0.0925\n",
      "step 290\n",
      "  pair_loss 697, non_pair_loss 2.05e+03\n",
      "  mu_pairs, mu_non_pairs = 2.96, 4.68\n",
      "  error 2.75e+03, bhatt 0.147\n",
      "step 300\n",
      "  pair_loss 1.17e+03, non_pair_loss 1.76e+03\n",
      "  mu_pairs, mu_non_pairs = 4.1, 5.02\n",
      "  error 2.93e+03, bhatt 0.0727\n",
      "step 310\n",
      "  pair_loss 976, non_pair_loss 2.13e+03\n",
      "  mu_pairs, mu_non_pairs = 3.62, 4.52\n",
      "  error 3.1e+03, bhatt 0.0481\n",
      "step 320\n",
      "  pair_loss 1.2e+03, non_pair_loss 1.93e+03\n",
      "  mu_pairs, mu_non_pairs = 3.98, 4.77\n",
      "  error 3.13e+03, bhatt 0.0272\n",
      "step 330\n",
      "  pair_loss 898, non_pair_loss 2.04e+03\n",
      "  mu_pairs, mu_non_pairs = 3.4, 4.72\n",
      "  error 2.94e+03, bhatt 0.0813\n",
      "step 340\n",
      "  pair_loss 1.18e+03, non_pair_loss 2.34e+03\n",
      "  mu_pairs, mu_non_pairs = 3.98, 4.2\n",
      "  error 3.52e+03, bhatt 0.00293\n",
      "step 350\n",
      "  pair_loss 1.04e+03, non_pair_loss 1.83e+03\n",
      "  mu_pairs, mu_non_pairs = 3.75, 4.99\n",
      "  error 2.86e+03, bhatt 0.0826\n",
      "step 360\n",
      "  pair_loss 920, non_pair_loss 1.99e+03\n",
      "  mu_pairs, mu_non_pairs = 3.58, 4.67\n",
      "  error 2.91e+03, bhatt 0.0895\n",
      "step 370\n",
      "  pair_loss 883, non_pair_loss 2.06e+03\n",
      "  mu_pairs, mu_non_pairs = 3.46, 4.66\n",
      "  error 2.94e+03, bhatt 0.0946\n",
      "step 380\n",
      "  pair_loss 989, non_pair_loss 2.43e+03\n",
      "  mu_pairs, mu_non_pairs = 3.7, 4.02\n",
      "  error 3.42e+03, bhatt 0.0103\n",
      "step 390\n",
      "  pair_loss 1.35e+03, non_pair_loss 1.95e+03\n",
      "  mu_pairs, mu_non_pairs = 4.32, 4.75\n",
      "  error 3.3e+03, bhatt 0.0114\n",
      "step 400\n",
      "  pair_loss 1.54e+03, non_pair_loss 2.29e+03\n",
      "  mu_pairs, mu_non_pairs = 4.57, 4.28\n",
      "  error 3.82e+03, bhatt 0.00356\n",
      "step 410\n",
      "  pair_loss 1.21e+03, non_pair_loss 1.5e+03\n",
      "  mu_pairs, mu_non_pairs = 4.02, 5.49\n",
      "  error 2.71e+03, bhatt 0.0941\n",
      "step 420\n",
      "  pair_loss 812, non_pair_loss 1.72e+03\n",
      "  mu_pairs, mu_non_pairs = 3.16, 5.18\n",
      "  error 2.53e+03, bhatt 0.167\n",
      "step 430\n",
      "  pair_loss 1.15e+03, non_pair_loss 1.58e+03\n",
      "  mu_pairs, mu_non_pairs = 3.85, 5.41\n",
      "  error 2.73e+03, bhatt 0.0914\n",
      "step 440\n",
      "  pair_loss 849, non_pair_loss 1.89e+03\n",
      "  mu_pairs, mu_non_pairs = 3.38, 4.95\n",
      "  error 2.74e+03, bhatt 0.144\n",
      "step 450\n",
      "  pair_loss 794, non_pair_loss 2.29e+03\n",
      "  mu_pairs, mu_non_pairs = 3.16, 4.29\n",
      "  error 3.08e+03, bhatt 0.0617\n",
      "step 460\n",
      "  pair_loss 1.07e+03, non_pair_loss 1.88e+03\n",
      "  mu_pairs, mu_non_pairs = 3.82, 4.9\n",
      "  error 2.94e+03, bhatt 0.067\n",
      "step 470\n",
      "  pair_loss 980, non_pair_loss 2.04e+03\n",
      "  mu_pairs, mu_non_pairs = 3.68, 4.59\n",
      "  error 3.02e+03, bhatt 0.058\n",
      "step 480\n",
      "  pair_loss 705, non_pair_loss 1.55e+03\n",
      "  mu_pairs, mu_non_pairs = 3.14, 5.54\n",
      "  error 2.25e+03, bhatt 0.365\n",
      "step 490\n",
      "  pair_loss 1.46e+03, non_pair_loss 1.89e+03\n",
      "  mu_pairs, mu_non_pairs = 4.45, 4.81\n",
      "  error 3.35e+03, bhatt 0.00778\n",
      "step 500\n",
      "  pair_loss 955, non_pair_loss 2.03e+03\n",
      "  mu_pairs, mu_non_pairs = 3.52, 4.67\n",
      "  error 2.99e+03, bhatt 0.0609\n",
      "step 510\n",
      "  pair_loss 792, non_pair_loss 1.43e+03\n",
      "  mu_pairs, mu_non_pairs = 3.23, 5.61\n",
      "  error 2.22e+03, bhatt 0.298\n"
     ]
    }
   ],
   "source": [
    "n_epoques = 512  # should prb be ~ 1e4-1e5\n",
    "learning_rate = 0.0001\n",
    "\n",
    "batches = get_batches([X_A, X_B, Y], batch_size=128)\n",
    "batch = next(batches)\n",
    "\n",
    "train_error_log = []\n",
    "loss_1_log = []\n",
    "loss_2_log = []\n",
    "bhatt_log = []\n",
    "d_pairs_log = []\n",
    "d_non_pairs_log = []\n",
    "for i in range(n_epoques):  \n",
    "    batch = next(batches)\n",
    "    \n",
    "    if i%10 == 0:\n",
    "        print('step {}'.format(i))\n",
    "        \n",
    "        train_error = error_float.eval(feed_dict={x_A:batch[0], x_B:batch[1], y_: batch[2], keep_prob: 1.0})\n",
    "        train_error_log.append(train_error)\n",
    "        loss_1 = pair_loss.eval(feed_dict={x_A:batch[0], x_B:batch[1], y_: batch[2], keep_prob: 1.0})\n",
    "        loss_2 = non_pair_loss.eval(feed_dict={x_A:batch[0], x_B:batch[1], y_: batch[2], keep_prob: 1.0})\n",
    "        loss_1_log.append(loss_1)\n",
    "        loss_2_log.append(loss_2)\n",
    "        print('  pair_loss %.3g, non_pair_loss %.3g' % (loss_1, loss_2))\n",
    "        \n",
    "        squared_dist = squared_error.eval(feed_dict={x_A:batch[0], x_B:batch[1], y_: batch[2], keep_prob: 1.0})\n",
    "        bhatt, d_pairs, d_non_pairs = approx_bhattacharyya(squared_dist, batch[2])\n",
    "        bhatt_log.append(bhatt)\n",
    "        d_pairs_log.append(d_pairs)\n",
    "        d_non_pairs_log.append(d_non_pairs)\n",
    "        print('  error %.3g, bhatt %.3g' % (train_error, bhatt))\n",
    "\n",
    "    train_step.run(feed_dict={x_A:batch[0], x_B:batch[1], y_: batch[2], keep_prob: 0.5})\n",
    "    \n",
    "last_labels = batch[2]"
   ]
  },
  {
   "cell_type": "code",
   "execution_count": 128,
   "metadata": {
    "collapsed": false
   },
   "outputs": [
    {
     "data": {
      "image/png": "[encoded data removed]",
      "text/plain": [
       "<matplotlib.figure.Figure at 0x13085d790>"
      ]
     },
     "metadata": {},
     "output_type": "display_data"
    }
   ],
   "source": [
    "plt.figure(figsize=(10,10))\n",
    "plt.subplot(311)\n",
    "plt.plot(train_error_log);\n",
    "plt.plot(loss_1_log, color='g');\n",
    "plt.plot(loss_2_log, color='r');\n",
    "plt.title('loss function and pairs vs non-pairs components');\n",
    "plt.subplot(312)\n",
    "plt.plot(d_pairs_log, color='g');\n",
    "plt.plot(d_non_pairs_log, color='r');\n",
    "plt.title('average distance, pairs vs non-pairs');\n",
    "plt.subplot(313)\n",
    "plt.plot(bhatt_log);\n",
    "plt.title('bhattacharyya distance');"
   ]
  },
  {
   "cell_type": "code",
   "execution_count": 129,
   "metadata": {
    "collapsed": false
   },
   "outputs": [
    {
     "name": "stdout",
     "output_type": "stream",
     "text": [
      "2218.5803833 2218.58\n"
     ]
    }
   ],
   "source": [
    "pair_dists = np.sqrt(squared_dist[np.where(last_labels==1)])\n",
    "non_pair_dists = np.sqrt(squared_dist[np.where(last_labels==0)])\n",
    "\n",
    "loss_reconstruct = np.sum(pair_dists**2) + alpha * np.sum(np.max([np.zeros_like(non_pair_dists), m - non_pair_dists], axis=0)**2)\n",
    "print(loss_reconstruct, train_error_log[-1])"
   ]
  },
  {
   "cell_type": "code",
   "execution_count": 130,
   "metadata": {
    "collapsed": false
   },
   "outputs": [
    {
     "name": "stdout",
     "output_type": "stream",
     "text": [
      "2425.98742676\n"
     ]
    }
   ],
   "source": [
    "L1 = pair_loss.eval(feed_dict={x_A:batch[0], x_B:batch[1], y_:batch[2], keep_prob: 1.0})\n",
    "L2 = non_pair_loss.eval(feed_dict={x_A:batch[0], x_B:batch[1], y_:batch[2], keep_prob: 1.0})\n",
    "print(L1 + alpha*L2)"
   ]
  },
  {
   "cell_type": "code",
   "execution_count": 131,
   "metadata": {
    "collapsed": false,
    "scrolled": true
   },
   "outputs": [
    {
     "data": {
      "image/png": "[encoded data removed]",
      "text/plain": [
       "<matplotlib.figure.Figure at 0x130565290>"
      ]
     },
     "metadata": {},
     "output_type": "display_data"
    }
   ],
   "source": [
    "plt.boxplot([non_pair_dists, pair_dists]);"
   ]
  },
  {
   "cell_type": "markdown",
   "metadata": {},
   "source": [
    "### Test"
   ]
  },
  {
   "cell_type": "code",
   "execution_count": 132,
   "metadata": {
    "collapsed": false
   },
   "outputs": [
    {
     "name": "stdout",
     "output_type": "stream",
     "text": [
      "Preloading chroma...\n",
      "Collecting test dataset...\n",
      "(1266, 512, 12) (1266, 512, 12) (1266,)\n"
     ]
    }
   ],
   "source": [
    "# subset\n",
    "test_subset = {uri: test_cliques[uri] for uri in test_cliques.keys()[:128]}\n",
    "\n",
    "print('Preloading chroma...')\n",
    "test_uris = util.uris_from_clique_dict(test_subset)\n",
    "chroma_dict_T = SHS_data.preload_chroma(test_uris)\n",
    "\n",
    "print('Collecting test dataset...')\n",
    "X_A_T, X_B_T, is_cover_T, test_pair_uris_T = paired_data.dataset_of_pairs(test_subset, chroma_dict_T,\n",
    "                                                             n_patches=n_patches, patch_len=patch_len)\n",
    "print(X_A_T.shape, X_B_T.shape, is_cover_T.shape)\n",
    "\n",
    "Y_T = is_cover_T.astype(float)"
   ]
  },
  {
   "cell_type": "code",
   "execution_count": 133,
   "metadata": {
    "collapsed": false
   },
   "outputs": [
    {
     "name": "stdout",
     "output_type": "stream",
     "text": [
      "  mu_pairs, mu_non_pairs = 1.93, 2.21\n",
      "bhatt = (0.059393887921249118, 1.9318316, 2.2084773)\n"
     ]
    },
    {
     "data": {
      "image/png": "[encoded data removed]",
      "text/plain": [
       "<matplotlib.figure.Figure at 0x130468390>"
      ]
     },
     "metadata": {},
     "output_type": "display_data"
    }
   ],
   "source": [
    "test_squared_dists = squared_error.eval(feed_dict={x_A:X_A_T, x_B:X_B_T, keep_prob: 1.0})\n",
    "test_squared_dists = np.sum(test_squared_dists, axis=1)\n",
    "\n",
    "test_pair_dists = np.sqrt(test_squared_dists[np.where(Y_T==1)[0]])\n",
    "test_non_pair_dists = np.sqrt(test_squared_dists[np.where(Y_T==0)[0]])\n",
    "\n",
    "bins = np.arange(0,10,0.4)\n",
    "plt.figure()\n",
    "plt.hist(test_non_pair_dists, bins=bins, alpha=0.5);\n",
    "plt.hist(test_pair_dists, bins=bins, color='r', alpha=0.5);\n",
    "\n",
    "print('bhatt =', approx_bhattacharyya(np.sqrt(test_squared_dists), Y_T))"
   ]
  },
  {
   "cell_type": "code",
   "execution_count": null,
   "metadata": {
    "collapsed": true
   },
   "outputs": [],
   "source": []
  }
 ],
 "metadata": {
  "kernelspec": {
   "display_name": "Python 2",
   "language": "python",
   "name": "python2"
  },
  "language_info": {
   "codemirror_mode": {
    "name": "ipython",
    "version": 2
   },
   "file_extension": ".py",
   "mimetype": "text/x-python",
   "name": "python",
   "nbconvert_exporter": "python",
   "pygments_lexer": "ipython2",
   "version": "2.7.11"
  }
 },
 "nbformat": 4,
 "nbformat_minor": 0
}
