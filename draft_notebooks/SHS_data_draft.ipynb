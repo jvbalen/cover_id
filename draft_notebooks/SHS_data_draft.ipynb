{
 "cells": [
  {
   "cell_type": "markdown",
   "metadata": {},
   "source": [
    "## Sketches and progress for SHS I/O"
   ]
  },
  {
   "cell_type": "code",
   "execution_count": 1,
   "metadata": {
    "collapsed": false
   },
   "outputs": [
    {
     "name": "stderr",
     "output_type": "stream",
     "text": [
      "/Users/Jan/anaconda/lib/python2.7/site-packages/matplotlib/font_manager.py:273: UserWarning: Matplotlib is building the font cache using fc-list. This may take a moment.\n",
      "  warnings.warn('Matplotlib is building the font cache using fc-list. This may take a moment.')\n"
     ]
    }
   ],
   "source": [
    "%matplotlib inline\n",
    "from __future__ import division, print_function\n",
    "import numpy as np\n",
    "import os"
   ]
  },
  {
   "cell_type": "markdown",
   "metadata": {},
   "source": [
    "### Read a list of all available URI's\n",
    "\n",
    "```Python\n",
    "def read_uris():\n",
    "...\n",
    "```"
   ]
  },
  {
   "cell_type": "code",
   "execution_count": 64,
   "metadata": {
    "collapsed": false
   },
   "outputs": [
    {
     "data": {
      "text/plain": [
       "True"
      ]
     },
     "execution_count": 64,
     "metadata": {},
     "output_type": "execute_result"
    }
   ],
   "source": [
    "import SHS_data\n",
    "\n",
    "uris, ids = SHS_data.read_uris()"
   ]
  },
  {
   "cell_type": "markdown",
   "metadata": {},
   "source": [
    "### Read cliques\n",
    "\n",
    "```Python\n",
    "def read_cliques(clique_file='shs_pruned.txt'):\n",
    "...\n",
    "```"
   ]
  },
  {
   "cell_type": "code",
   "execution_count": 48,
   "metadata": {
    "collapsed": false
   },
   "outputs": [],
   "source": [
    "reload(SHS_data)\n",
    "\n",
    "cliques_by_name, cliques_by_id = SHS_data.read_cliques()"
   ]
  },
  {
   "cell_type": "markdown",
   "metadata": {
    "collapsed": true
   },
   "source": [
    "### Split cliques into train, test & evaluation sets\n",
    "\n",
    "```Python\n",
    "def split_train_test_validation(clique_dict, ratio=(50,20,30),\n",
    "                           random_state=1988):\n",
    "...\n",
    "```"
   ]
  },
  {
   "cell_type": "code",
   "execution_count": 4,
   "metadata": {
    "collapsed": true
   },
   "outputs": [],
   "source": [
    "reload(SHS_data)\n",
    "\n",
    "train_cliques, test_cliques, val_cliques = SHS_data.split_train_test_validation(cliques_by_name)"
   ]
  },
  {
   "cell_type": "markdown",
   "metadata": {},
   "source": [
    "### Get URI's for a clique\n",
    "\n",
    "First idea: get URI's and a ground truth matrix.\n",
    "\n",
    "But maybe that's not what we want:\n",
    "18K x 18K ground truth matrix in dense form = 2Gb.\n",
    "\n",
    "Therefore: just URI's for now.\n",
    "\n",
    "#### Open Question\n",
    "\n",
    "Should this function be in SHS_data or somewhere more general?\n",
    "\n",
    "Probably somewhere more general, but there is no such somewhere for now, so leaving it in place."
   ]
  },
  {
   "cell_type": "code",
   "execution_count": 44,
   "metadata": {
    "collapsed": true
   },
   "outputs": [],
   "source": [
    "reload(SHS_data)\n",
    "\n",
    "train_uris = SHS_data.uris_from_clique_dict(train_cliques)"
   ]
  },
  {
   "cell_type": "code",
   "execution_count": 47,
   "metadata": {
    "collapsed": true
   },
   "outputs": [],
   "source": [
    "    "
   ]
  },
  {
   "cell_type": "code",
   "execution_count": null,
   "metadata": {
    "collapsed": true
   },
   "outputs": [],
   "source": []
  }
 ],
 "metadata": {
  "kernelspec": {
   "display_name": "Python 2",
   "language": "python",
   "name": "python2"
  },
  "language_info": {
   "codemirror_mode": {
    "name": "ipython",
    "version": 2
   },
   "file_extension": ".py",
   "mimetype": "text/x-python",
   "name": "python",
   "nbconvert_exporter": "python",
   "pygments_lexer": "ipython2",
   "version": "2.7.11"
  }
 },
 "nbformat": 4,
 "nbformat_minor": 0
}
