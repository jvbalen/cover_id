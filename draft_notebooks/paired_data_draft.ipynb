{
 "cells": [
  {
   "cell_type": "code",
   "execution_count": 32,
   "metadata": {
    "collapsed": false
   },
   "outputs": [],
   "source": [
    "%matplotlib inline\n",
    "\n",
    "from __future__ import division, print_function\n",
    "\n",
    "import numpy as np\n",
    "import matplotlib.pyplot as plt\n",
    "from itertools import combinations\n",
    "import tensorflow\n",
    "\n",
    "import SHS_data\n",
    "import main\n",
    "import fingerprints as fp\n",
    "import util\n",
    "\n",
    "import paired_data\n",
    "reload(paired_data);"
   ]
  },
  {
   "cell_type": "markdown",
   "metadata": {},
   "source": [
    "## Load some data"
   ]
  },
  {
   "cell_type": "code",
   "execution_count": 25,
   "metadata": {
    "collapsed": true
   },
   "outputs": [],
   "source": [
    "# ratio = (5, 15, 80)\n",
    "ratio = (1, 9, 90)\n",
    "clique_dict, cliques_by_uri = SHS_data.read_cliques()\n",
    "train_cliques, test_cliques, val_cliques = util.split_train_test_validation(clique_dict, ratio=ratio)"
   ]
  },
  {
   "cell_type": "markdown",
   "metadata": {},
   "source": [
    "## Load pairs of covers and non-covers\n",
    "\n",
    "```Python\n",
    "\n",
    "def get_pairs(clique_dict):\n",
    "...\n",
    "```"
   ]
  },
  {
   "cell_type": "code",
   "execution_count": 26,
   "metadata": {
    "collapsed": false
   },
   "outputs": [],
   "source": [
    "pairs, non_pairs = paired_data.get_pairs(train_cliques)\n",
    "\n",
    "assert len(pairs) == len(non_pairs)\n",
    "assert np.all([len(pair) == 2 for pair in pairs])\n",
    "assert np.all([len(non_pair) == 2 for non_pair in non_pairs])\n",
    "assert np.all([cliques_by_uri[pair[0]] == cliques_by_uri[pair[1]] for pair in pairs])\n",
    "assert not np.any([cliques_by_uri[non_pair[0]] == cliques_by_uri[non_pair[1]] for non_pair in non_pairs])"
   ]
  },
  {
   "cell_type": "markdown",
   "metadata": {},
   "source": [
    "## Cut chroma features to fixed-length arrays\n",
    "\n",
    "```Python\n",
    "\n",
    "def patchwork(chroma, n_patches=7, patch_len=64):\n",
    "...\n",
    "```\n",
    "\n",
    "Strategy: cuttinging out `n_patches` equally-spaced (possibly overlapping) patches of length `patch_len` and stitching them back together.\n",
    "\n",
    "Note that this requires some extra attention as there are unusually short chroma files in the dataset:\n",
    "Around 30 files are less than 64 beats long.\n",
    "Hence an exta test in which `patch_len > len(chroma)`."
   ]
  },
  {
   "cell_type": "code",
   "execution_count": 99,
   "metadata": {
    "collapsed": false
   },
   "outputs": [],
   "source": [
    "reload(paired_data)\n",
    "\n",
    "# simple array\n",
    "len_x = 10\n",
    "n_patch, patch_len = 3, 14\n",
    "\n",
    "x_test = np.arange(len_x).reshape((-1,1))\n",
    "\n",
    "x_patches = paired_data.patchwork(x_test, n_patches=n_patch, patch_len=patch_len)\n",
    "\n",
    "assert x_patches[0] == x_test[0]\n",
    "assert x_patches[-1] == x_test[-1]\n",
    "assert len(x_patches) == n_patch * patch_len\n",
    "\n",
    "# real data\n",
    "test_pair = pairs[0]\n",
    "chroma_1 = SHS_data.read_chroma(test_pair[0])\n",
    "chroma_2 = SHS_data.read_chroma(test_pair[1])\n",
    "\n",
    "patches_1 = paired_data.patchwork(chroma_1)\n",
    "patches_2 = paired_data.patchwork(chroma_2)\n",
    "\n",
    "assert patches_1.shape == patches_2.shape\n",
    "\n",
    "# short chroma\n",
    "n_patches = 3\n",
    "patch_len = min(len(chroma_1), len(chroma_2)) + 10\n",
    "\n",
    "patches_1 = paired_data.patchwork(chroma_1, n_patches=n_patches, patch_len=patch_len)\n",
    "patches_2 = paired_data.patchwork(chroma_2, n_patches=n_patches, patch_len=patch_len)\n",
    "        \n",
    "assert np.all(patches_1.shape == patches_2.shape)\n",
    "assert patches_1.shape[0] == n_patches * patch_len"
   ]
  },
  {
   "cell_type": "markdown",
   "metadata": {},
   "source": [
    "## Align chroma pitch dimension\n",
    "\n",
    "```Python\n",
    "\n",
    "def align_pitch(chroma_1, chroma_2):\n",
    "...\n",
    "```"
   ]
  },
  {
   "cell_type": "code",
   "execution_count": 28,
   "metadata": {
    "collapsed": false
   },
   "outputs": [
    {
     "name": "stdout",
     "output_type": "stream",
     "text": [
      "[[2 0 1 0 0 0]\n",
      " [2 0 1 0 0 0]]\n",
      "[[0 0 1 0 3 0]\n",
      " [0 0 1 0 3 0]]\n",
      "\n",
      " [[3 0 0 0 1 0]\n",
      " [3 0 0 0 1 0]]\n"
     ]
    }
   ],
   "source": [
    "a = np.array([[2,0,1,0,0,0],\n",
    "              [2,0,1,0,0,0]])\n",
    "\n",
    "b = np.array([[0,0,1,0,3,0],\n",
    "              [0,0,1,0,3,0]])\n",
    "\n",
    "a_, b_ = paired_data.align_pitch(a, b)\n",
    "\n",
    "print(a)\n",
    "print(b)\n",
    "print('\\n', b_)"
   ]
  },
  {
   "cell_type": "markdown",
   "metadata": {},
   "source": [
    "## Construct a dataset of cover and non-cover 'patchworks'\n",
    "\n",
    "\n",
    "```Python\n",
    "def dataset_of_pairs(clique_dict, chroma_dict):\n",
    "...\n",
    "```"
   ]
  },
  {
   "cell_type": "code",
   "execution_count": 29,
   "metadata": {
    "collapsed": false
   },
   "outputs": [
    {
     "name": "stdout",
     "output_type": "stream",
     "text": [
      "(244,) (244, 448, 12) (244,)\n"
     ]
    }
   ],
   "source": [
    "train_uris = util.uris_from_clique_dict(train_cliques)\n",
    "chroma_dict = SHS_data.preload_chroma(train_uris)\n",
    "\n",
    "X_1, X_2, is_cover, _ = paired_data.dataset_of_pairs(train_cliques, chroma_dict)\n",
    "\n",
    "print(X_1.shape, X_2.shape, is_cover.shape)"
   ]
  },
  {
   "cell_type": "code",
   "execution_count": null,
   "metadata": {
    "collapsed": true
   },
   "outputs": [],
   "source": []
  }
 ],
 "metadata": {
  "kernelspec": {
   "display_name": "Python 2",
   "language": "python",
   "name": "python2"
  },
  "language_info": {
   "codemirror_mode": {
    "name": "ipython",
    "version": 2
   },
   "file_extension": ".py",
   "mimetype": "text/x-python",
   "name": "python",
   "nbconvert_exporter": "python",
   "pygments_lexer": "ipython2",
   "version": "2.7.11"
  }
 },
 "nbformat": 4,
 "nbformat_minor": 0
}
