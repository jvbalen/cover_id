{
 "cells": [
  {
   "cell_type": "markdown",
   "metadata": {},
   "source": [
    "## Cover ID evaluation scripts"
   ]
  },
  {
   "cell_type": "code",
   "execution_count": 45,
   "metadata": {
    "collapsed": false
   },
   "outputs": [],
   "source": [
    "%matplotlib inline\n",
    "from __future__ import division, print_function\n",
    "import numpy as np\n",
    "\n",
    "import SHS_data"
   ]
  },
  {
   "cell_type": "markdown",
   "metadata": {},
   "source": [
    "### Evaluating a query\n",
    "\n",
    "```Python\n",
    "def evaluate_query(query, retrieved, correct_uris=None):\n",
    "\"\"\"Evaluate retrieval results for a given query.\n",
    "\n",
    "    Args:\n",
    "        query (str): query URI\n",
    "        retrieved (list): ordered list of top k retrieved documents\n",
    "            (k can be anything)\n",
    "        clique_uris (list): list of documents to be found. Set to None\n",
    "            to look up using ID, pass a list to save i/o time.\n",
    "\n",
    "    Returns:\n",
    "        dict: dictionary of results with evaluation metrics as keys.\n",
    "            currently implemented:\n",
    "            - ap (average precision)\n",
    "            - precision at 1\n",
    "            - recall at 5\n",
    "\"\"\"\n",
    "...\n",
    "```\n",
    "\n",
    "More elegant average precision formulation than currently used (but not very usable):\n",
    "\n",
    "```Python\n",
    "precisions = [__precision__(ranks[:i+1], ranks[i]) for i in range(len(ranks))]\n",
    "```"
   ]
  },
  {
   "cell_type": "code",
   "execution_count": 126,
   "metadata": {
    "collapsed": false
   },
   "outputs": [
    {
     "name": "stdout",
     "output_type": "stream",
     "text": [
      "CLIQUE: 4033_the loco motion\n",
      "QUERY: TRAQVSH128F92EF9A5\n",
      "CORRECT: ['TRLJHJT128F92F8C1A']\n",
      "test_incorrect: ['TRKVQBG128F427E511', 'TRQUXMZ128F92D16D2', 'TRQJONS128F428D06E']\n",
      "RETRIEVED: ['TRKVQBG128F427E511', 'TRQUXMZ128F92D16D2', 'TRQJONS128F428D06E', 'TRLJHJT128F92F8C1A']\n",
      "set(['TRLJHJT128F92F8C1A'])\n",
      "RESULT: {'ap': 0.25, 'p1': 0.0, 'r5': 1.0}\n"
     ]
    }
   ],
   "source": [
    "import evaluation\n",
    "reload(evaluation)\n",
    "\n",
    "cliques_by_name, cliques_by_uri = SHS_data.read_cliques()\n",
    "\n",
    "# QUERY\n",
    "n_test = 1988\n",
    "test_clique = cliques_by_name.keys()[n_test]\n",
    "print('CLIQUE: ' + test_clique)\n",
    "\n",
    "# CORRECT URIS\n",
    "test_uris = cliques_by_name[test_clique]\n",
    "test_query, test_correct = test_uris[0], test_uris[1:]\n",
    "print('QUERY: ' + test_query)\n",
    "print('CORRECT: {}'.format(test_correct))\n",
    "\n",
    "# INCORRECT URIS\n",
    "test_incorrect = cliques_by_name.values()[n_test+1]\n",
    "print('test_incorrect: {}'.format(test_incorrect))\n",
    "\n",
    "# RETRIEVED\n",
    "# test_retrieved = test_incorrect + test_correct  # expect (0.25, 0, 1) for n_test = 1988\n",
    "# test_retrieved = test_correct + test_incorrect  # expect (1, 1, 1)\n",
    "# test_retrieved = test_incorrect                 # expect (0, 0, 0)\n",
    "# test_retrieved = test_correct                   # expect (1, 1, 1)\n",
    "# test_retrieved = []                             # expect (0, 0, 0)\n",
    "print('RETRIEVED: {}'.format(test_retrieved))\n",
    "\n",
    "# RESULT\n",
    "res = evaluation.evaluate_query(test_query, test_retrieved)\n",
    "print('RESULT: {}'.format(res))"
   ]
  },
  {
   "cell_type": "code",
   "execution_count": null,
   "metadata": {
    "collapsed": true
   },
   "outputs": [],
   "source": []
  }
 ],
 "metadata": {
  "kernelspec": {
   "display_name": "Python 2",
   "language": "python",
   "name": "python2"
  },
  "language_info": {
   "codemirror_mode": {
    "name": "ipython",
    "version": 2
   },
   "file_extension": ".py",
   "mimetype": "text/x-python",
   "name": "python",
   "nbconvert_exporter": "python",
   "pygments_lexer": "ipython2",
   "version": "2.7.11"
  }
 },
 "nbformat": 4,
 "nbformat_minor": 0
}
