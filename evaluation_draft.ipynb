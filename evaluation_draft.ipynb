{
 "cells": [
  {
   "cell_type": "markdown",
   "metadata": {},
   "source": [
    "## Cover ID evaluation scripts"
   ]
  },
  {
   "cell_type": "code",
   "execution_count": 45,
   "metadata": {
    "collapsed": false
   },
   "outputs": [],
   "source": [
    "%matplotlib inline\n",
    "from __future__ import division, print_function\n",
    "import numpy as np\n",
    "\n",
    "import SHS_data\n",
    "import evaluation"
   ]
  },
  {
   "cell_type": "markdown",
   "metadata": {},
   "source": [
    "### Evaluating a query\n",
    "\n",
    "```Python\n",
    "def evaluate_query(query, retrieved, correct_uris=None):\n",
    "\"\"\"Evaluate retrieval results for a given query.\n",
    "\n",
    "    Args:\n",
    "        query (str): query URI\n",
    "        retrieved (list): ordered list of top k retrieved documents\n",
    "            (k can be anything)\n",
    "        clique_uris (list): list of documents to be found. Set to None\n",
    "            to look up using ID, pass a list to save i/o time.\n",
    "\n",
    "    Returns:\n",
    "        dict: dictionary of results with evaluation metrics as keys.\n",
    "            currently implemented:\n",
    "            - ap (average precision)\n",
    "            - precision at 1\n",
    "            - recall at 5\n",
    "\"\"\"\n",
    "...\n",
    "```\n",
    "\n",
    "More elegant average precision formulation than currently used (but not very usable):\n",
    "\n",
    "```Python\n",
    "precisions = [__precision__(ranks[:i+1], ranks[i]) for i in range(len(ranks))]\n",
    "```"
   ]
  },
  {
   "cell_type": "code",
   "execution_count": 103,
   "metadata": {
    "collapsed": false
   },
   "outputs": [
    {
     "name": "stdout",
     "output_type": "stream",
     "text": [
      "CLIQUE: 4457_I've Got A Crush On You\n",
      "QUERY: TRKVQBG128F427E511\n",
      "RELEVANT: ['TRQUXMZ128F92D16D2', 'TRQJONS128F428D06E']\n",
      "NOISE: ['TRQFPOO128F92E27A4', 'TRTTHWG128F92F6F57', 'TRSNEJR128F424E83B', 'TRCJVOO128F4274715']\n",
      "RETRIEVED: ['TRQFPOO128F92E27A4', 'TRTTHWG128F92F6F57', 'TRSNEJR128F424E83B', 'TRCJVOO128F4274715', 'TRQUXMZ128F92D16D2', 'TRQJONS128F428D06E']\n",
      "set(['TRKVQBG128F427E511', 'TRQUXMZ128F92D16D2', 'TRQJONS128F428D06E'])\n",
      "RESULT: {'ap': 0.26666666666666666, 'p1': 0.0, 'r5': 0.33333333333333331}\n"
     ]
    }
   ],
   "source": [
    "reload(evaluation)\n",
    "\n",
    "cliques_by_name, cliques_by_uri = SHS_data.read_cliques()\n",
    "\n",
    "n_test = 1989\n",
    "test_clique = cliques_by_name.keys()[n_test]\n",
    "print('CLIQUE: ' + test_clique)\n",
    "\n",
    "test_uris = cliques_by_name[test_clique]\n",
    "test_query, test_relevant = test_uris[0], test_uris[1:]\n",
    "print('QUERY: ' + test_query)\n",
    "print('RELEVANT: {}'.format(test_relevant))\n",
    "\n",
    "test_noise = cliques_by_name.values()[n_test+1]\n",
    "print('NOISE: {}'.format(test_noise))\n",
    "\n",
    "test_retrieved = test_noise + test_relevant\n",
    "print('RETRIEVED: {}'.format(test_retrieved))\n",
    "\n",
    "res = evaluation.evaluate_query(test_query, test_retrieved)\n",
    "print('RESULT: {}'.format(res))"
   ]
  },
  {
   "cell_type": "code",
   "execution_count": 104,
   "metadata": {
    "collapsed": false
   },
   "outputs": [
    {
     "name": "stdout",
     "output_type": "stream",
     "text": [
      "set(['TRKVQBG128F427E511', 'TRQUXMZ128F92D16D2', 'TRQJONS128F428D06E'])\n",
      "RESULT: {'ap': 0.41666666666666663, 'p1': 0.0, 'r5': 0.66666666666666663}\n"
     ]
    }
   ],
   "source": [
    "retrieved = ['TRQFPOO128F92E27A4', 'TRTTHWG128F92F6F57',  # these two are incorrect\n",
    "             'TRQUXMZ128F92D16D2', 'TRQJONS128F428D06E']  # these two are correct\n",
    "res = evaluation.evaluate_query(test_query, retrieved)\n",
    "print('RESULT: {}'.format(res))"
   ]
  },
  {
   "cell_type": "code",
   "execution_count": 109,
   "metadata": {
    "collapsed": false
   },
   "outputs": [
    {
     "name": "stdout",
     "output_type": "stream",
     "text": [
      "set(['1', 'B', 'E', 'G', 'F', 'K', '4', 'Q', 'R', '5', 'T', '7', 'V', '2', '8'])\n"
     ]
    },
    {
     "data": {
      "text/plain": [
       "{'TRKVQBG128F427E511', 'TRQJONS128F428D06E', 'TRQUXMZ128F92D16D2'}"
      ]
     },
     "execution_count": 109,
     "metadata": {},
     "output_type": "execute_result"
    }
   ],
   "source": [
    "print(set(test_query))\n",
    "set(cliques_by_name[test_clique]) - set(test_query)"
   ]
  },
  {
   "cell_type": "code",
   "execution_count": null,
   "metadata": {
    "collapsed": true
   },
   "outputs": [],
   "source": []
  }
 ],
 "metadata": {
  "kernelspec": {
   "display_name": "Python 2",
   "language": "python",
   "name": "python2"
  },
  "language_info": {
   "codemirror_mode": {
    "name": "ipython",
    "version": 2
   },
   "file_extension": ".py",
   "mimetype": "text/x-python",
   "name": "python",
   "nbconvert_exporter": "python",
   "pygments_lexer": "ipython2",
   "version": "2.7.11"
  }
 },
 "nbformat": 4,
 "nbformat_minor": 0
}
