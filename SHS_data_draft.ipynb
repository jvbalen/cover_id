{
 "cells": [
  {
   "cell_type": "code",
   "execution_count": 1,
   "metadata": {
    "collapsed": false
   },
   "outputs": [
    {
     "name": "stderr",
     "output_type": "stream",
     "text": [
      "/Users/Jan/anaconda/lib/python2.7/site-packages/matplotlib/font_manager.py:273: UserWarning: Matplotlib is building the font cache using fc-list. This may take a moment.\n",
      "  warnings.warn('Matplotlib is building the font cache using fc-list. This may take a moment.')\n"
     ]
    }
   ],
   "source": [
    "%matplotlib inline\n",
    "from __future__ import division, print_function\n",
    "import numpy as np"
   ]
  },
  {
   "cell_type": "markdown",
   "metadata": {},
   "source": [
    "# Sketches and progress for SHS I/O\n",
    "\n",
    "## Finished\n",
    "\n",
    "### Read URI's\n",
    "\n",
    "```Python\n",
    "def read_uris():\n",
    "...\n",
    "```"
   ]
  },
  {
   "cell_type": "code",
   "execution_count": 2,
   "metadata": {
    "collapsed": false
   },
   "outputs": [],
   "source": [
    "import SHS_data\n",
    "\n",
    "uris, ids = SHS_data.read_uris()"
   ]
  },
  {
   "cell_type": "markdown",
   "metadata": {},
   "source": [
    "### Read Cliques\n",
    "\n",
    "```Python\n",
    "def read_cliques(clique_file='shs_pruned.txt'):\n",
    "...\n",
    "```"
   ]
  },
  {
   "cell_type": "code",
   "execution_count": 3,
   "metadata": {
    "collapsed": false
   },
   "outputs": [],
   "source": [
    "import SHS_data\n",
    "\n",
    "cliques_by_name, cliques_by_id = SHS_data.read_cliques()"
   ]
  },
  {
   "cell_type": "markdown",
   "metadata": {},
   "source": [
    "#### Let's take a quick look at set sizes"
   ]
  },
  {
   "cell_type": "code",
   "execution_count": 5,
   "metadata": {
    "collapsed": false
   },
   "outputs": [
    {
     "name": "stdout",
     "output_type": "stream",
     "text": [
      "N_ids:  18069\n",
      "N_pruned:  18069\n"
     ]
    },
    {
     "ename": "NameError",
     "evalue": "name 'os' is not defined",
     "output_type": "error",
     "traceback": [
      "\u001b[0;31m---------------------------------------------------------------------------\u001b[0m",
      "\u001b[0;31mNameError\u001b[0m                                 Traceback (most recent call last)",
      "\u001b[0;32m<ipython-input-5-e280114303d0>\u001b[0m in \u001b[0;36m<module>\u001b[0;34m()\u001b[0m\n\u001b[1;32m      8\u001b[0m \u001b[0;32mprint\u001b[0m\u001b[0;34m(\u001b[0m\u001b[0;34m'N_pruned: '\u001b[0m\u001b[0;34m,\u001b[0m \u001b[0mN_pruned\u001b[0m\u001b[0;34m)\u001b[0m\u001b[0;34m\u001b[0m\u001b[0m\n\u001b[1;32m      9\u001b[0m \u001b[0;34m\u001b[0m\u001b[0m\n\u001b[0;32m---> 10\u001b[0;31m \u001b[0mchroma_path\u001b[0m \u001b[0;34m=\u001b[0m \u001b[0mos\u001b[0m\u001b[0;34m.\u001b[0m\u001b[0mpath\u001b[0m\u001b[0;34m.\u001b[0m\u001b[0mjoin\u001b[0m\u001b[0;34m(\u001b[0m\u001b[0mdata_dir\u001b[0m \u001b[0;34m+\u001b[0m \u001b[0;34m'chroma/'\u001b[0m\u001b[0;34m)\u001b[0m\u001b[0;34m\u001b[0m\u001b[0m\n\u001b[0m\u001b[1;32m     11\u001b[0m \u001b[0mchroma_files\u001b[0m \u001b[0;34m=\u001b[0m \u001b[0mos\u001b[0m\u001b[0;34m.\u001b[0m\u001b[0mlistdir\u001b[0m\u001b[0;34m(\u001b[0m\u001b[0mchroma_path\u001b[0m\u001b[0;34m)\u001b[0m\u001b[0;34m\u001b[0m\u001b[0m\n\u001b[1;32m     12\u001b[0m \u001b[0mN_chroma_files\u001b[0m \u001b[0;34m=\u001b[0m \u001b[0mlen\u001b[0m\u001b[0;34m(\u001b[0m\u001b[0mchroma_files\u001b[0m\u001b[0;34m)\u001b[0m\u001b[0;34m\u001b[0m\u001b[0m\n",
      "\u001b[0;31mNameError\u001b[0m: name 'os' is not defined"
     ]
    }
   ],
   "source": [
    "# check set sizes\n",
    "uris, ids = SHS_data.read_uris()\n",
    "N_ids = len(ids)\n",
    "print('N_ids: ', N_ids)\n",
    "\n",
    "cliques_pruned, _ = SHS_data.read_cliques(clique_file='shs_pruned.txt')\n",
    "N_pruned = np.sum([len(clique) for clique in cliques_pruned.values()])\n",
    "print('N_pruned: ', N_pruned)\n",
    "\n",
    "chroma_path = os.path.join(data_dir + 'chroma/')\n",
    "chroma_files = os.listdir(chroma_path)\n",
    "N_chroma_files = len(chroma_files)\n",
    "print('N_chroma_files', N_chroma_files)\n",
    "\n",
    "cliques_train, _ = SHS_data.read_cliques(clique_file='shs_train.txt')\n",
    "cliques_test, _ = SHS_data.read_cliques(clique_file='shs_test.txt')\n",
    "N_train = np.sum([len(clique) for clique in cliques_train.values()])\n",
    "N_test = np.sum([len(clique) for clique in cliques_test.values()])\n",
    "print('N_train + N_test: ', N_train + N_test)"
   ]
  },
  {
   "cell_type": "markdown",
   "metadata": {},
   "source": [
    "Good news:\n",
    "\n",
    "    N_ids == N_pruned == N_chroma_files\n",
    "\n",
    "`18196 - 18069 = 127` files were 'pruned'\n",
    "\n",
    "#### Check set sizes in more detail"
   ]
  },
  {
   "cell_type": "code",
   "execution_count": 6,
   "metadata": {
    "collapsed": false,
    "scrolled": true
   },
   "outputs": [
    {
     "ename": "NameError",
     "evalue": "name 'cliques_train' is not defined",
     "output_type": "error",
     "traceback": [
      "\u001b[0;31m---------------------------------------------------------------------------\u001b[0m",
      "\u001b[0;31mNameError\u001b[0m                                 Traceback (most recent call last)",
      "\u001b[0;32m<ipython-input-6-5db92466de9b>\u001b[0m in \u001b[0;36m<module>\u001b[0;34m()\u001b[0m\n\u001b[1;32m      1\u001b[0m \u001b[0mpruned_uris\u001b[0m \u001b[0;34m=\u001b[0m \u001b[0mset\u001b[0m\u001b[0;34m(\u001b[0m\u001b[0;34m[\u001b[0m\u001b[0muri\u001b[0m \u001b[0;32mfor\u001b[0m \u001b[0mclique\u001b[0m \u001b[0;32min\u001b[0m \u001b[0mcliques_pruned\u001b[0m\u001b[0;34m.\u001b[0m\u001b[0mvalues\u001b[0m\u001b[0;34m(\u001b[0m\u001b[0;34m)\u001b[0m \u001b[0;32mfor\u001b[0m \u001b[0muri\u001b[0m \u001b[0;32min\u001b[0m \u001b[0mclique\u001b[0m\u001b[0;34m]\u001b[0m\u001b[0;34m)\u001b[0m\u001b[0;34m\u001b[0m\u001b[0m\n\u001b[0;32m----> 2\u001b[0;31m \u001b[0mtrain_uris\u001b[0m \u001b[0;34m=\u001b[0m \u001b[0mset\u001b[0m\u001b[0;34m(\u001b[0m\u001b[0;34m[\u001b[0m\u001b[0muri\u001b[0m \u001b[0;32mfor\u001b[0m \u001b[0mclique\u001b[0m \u001b[0;32min\u001b[0m \u001b[0mcliques_train\u001b[0m\u001b[0;34m.\u001b[0m\u001b[0mvalues\u001b[0m\u001b[0;34m(\u001b[0m\u001b[0;34m)\u001b[0m \u001b[0;32mfor\u001b[0m \u001b[0muri\u001b[0m \u001b[0;32min\u001b[0m \u001b[0mclique\u001b[0m\u001b[0;34m]\u001b[0m\u001b[0;34m)\u001b[0m\u001b[0;34m\u001b[0m\u001b[0m\n\u001b[0m\u001b[1;32m      3\u001b[0m \u001b[0mtest_uris\u001b[0m \u001b[0;34m=\u001b[0m \u001b[0mset\u001b[0m\u001b[0;34m(\u001b[0m\u001b[0;34m[\u001b[0m\u001b[0muri\u001b[0m \u001b[0;32mfor\u001b[0m \u001b[0mclique\u001b[0m \u001b[0;32min\u001b[0m \u001b[0mcliques_test\u001b[0m\u001b[0;34m.\u001b[0m\u001b[0mvalues\u001b[0m\u001b[0;34m(\u001b[0m\u001b[0;34m)\u001b[0m \u001b[0;32mfor\u001b[0m \u001b[0muri\u001b[0m \u001b[0;32min\u001b[0m \u001b[0mclique\u001b[0m\u001b[0;34m]\u001b[0m\u001b[0;34m)\u001b[0m\u001b[0;34m\u001b[0m\u001b[0m\n\u001b[1;32m      4\u001b[0m \u001b[0mtrain_test_uris\u001b[0m \u001b[0;34m=\u001b[0m \u001b[0mset\u001b[0m\u001b[0;34m(\u001b[0m\u001b[0mtrain_uris\u001b[0m \u001b[0;34m|\u001b[0m \u001b[0mtest_uris\u001b[0m\u001b[0;34m)\u001b[0m\u001b[0;34m\u001b[0m\u001b[0m\n\u001b[1;32m      5\u001b[0m \u001b[0;34m\u001b[0m\u001b[0m\n",
      "\u001b[0;31mNameError\u001b[0m: name 'cliques_train' is not defined"
     ]
    }
   ],
   "source": [
    "pruned_uris = set([uri for clique in cliques_pruned.values() for uri in clique])\n",
    "train_uris = set([uri for clique in cliques_train.values() for uri in clique])\n",
    "test_uris = set([uri for clique in cliques_test.values() for uri in clique])\n",
    "train_test_uris = set(train_uris | test_uris)\n",
    "\n",
    "# check if that made sense:\n",
    "assert N_train == len(train_uris)\n",
    "assert N_test ==  len(test_uris)\n",
    "\n",
    "# check if no overlap between train and test data\n",
    "assert len(train_uris) + len(test_uris) == N_train + N_test\n",
    "assert len(train_uris) + len(test_uris) == len(train_test_uris)\n",
    "\n",
    "# check if len(uris) is len(pruned_uris)\n",
    "assert len(train_uris) + len(test_uris) == N_train + N_test\n",
    "\n",
    "# check again how many songs were pruned\n",
    "pruned_files = train_test_uris - pruned_uris\n",
    "print(len(missing_files))"
   ]
  },
  {
   "cell_type": "code",
   "execution_count": null,
   "metadata": {
    "collapsed": false
   },
   "outputs": [],
   "source": [
    "len(train_uris & pruned_uris)"
   ]
  },
  {
   "cell_type": "markdown",
   "metadata": {},
   "source": [
    "Good news: no overlap between train and test data.\n",
    "\n",
    "Number of pruned files is confirmed.\n",
    "\n",
    "\n",
    "#### Were any songs added?"
   ]
  },
  {
   "cell_type": "code",
   "execution_count": null,
   "metadata": {
    "collapsed": false
   },
   "outputs": [],
   "source": [
    "len(pruned_uris - train_uris - test_uris)"
   ]
  },
  {
   "cell_type": "markdown",
   "metadata": {},
   "source": [
    "As expected, no extra songs in SHS_pruned that weren't already in SHS_train or SHS_test.\n",
    "\n",
    "#### In short:\n",
    "\n",
    "Where I thought the situation was like this (before processing duplicate clique names and last clique in the file correctly):\n",
    "\n",
    "       ____________________________________\n",
    "     /           /                           \\\n",
    "    | ids       | SHS_pruned                 |\n",
    "    |           |                            |\n",
    "    |    196    |             2              |\n",
    "    |    _______|____________________________|\n",
    "    |  /        |                 |          |\\\n",
    "    | |   131   |      12557      |   5183   | |\n",
    "     \\|__________\\________________|_________/  |\n",
    "      |                           |            |\n",
    "      |            104            |     23     |  < missing\n",
    "      |                           |            |\n",
    "      |                 SHS_train | SHS_test   |\n",
    "       \\ _________________________|__________ /\n",
    "       \n",
    "       \n",
    "It's actually like this (much simpler):\n",
    "\n",
    "       __________________________________\n",
    "     //                    |             \\\\\n",
    "    ||           SHS_train | SHS_test     ||\n",
    "    ||                     |              ||__ SHS_pruned\n",
    "    ||        12856        |     5213     ||\n",
    "    ||                     |              ||\n",
    "     \\ ____________________|_____________ /\n",
    "     |                     |              |\n",
    "     |         104         |      23      |\n",
    "      \\ ___________________|____________ /\n"
   ]
  },
  {
   "cell_type": "markdown",
   "metadata": {
    "collapsed": true
   },
   "source": [
    "### Train, test, evaluation sets\n",
    "\n",
    "```Python\n",
    "def split_train_test_validation(clique_dict, ratio=(50,20,30),\n",
    "                           random_state=1988):\n",
    "...\n",
    "```"
   ]
  },
  {
   "cell_type": "code",
   "execution_count": null,
   "metadata": {
    "collapsed": true
   },
   "outputs": [],
   "source": []
  }
 ],
 "metadata": {
  "kernelspec": {
   "display_name": "Python 2",
   "language": "python",
   "name": "python2"
  },
  "language_info": {
   "codemirror_mode": {
    "name": "ipython",
    "version": 2
   },
   "file_extension": ".py",
   "mimetype": "text/x-python",
   "name": "python",
   "nbconvert_exporter": "python",
   "pygments_lexer": "ipython2",
   "version": "2.7.11"
  }
 },
 "nbformat": 4,
 "nbformat_minor": 0
}
